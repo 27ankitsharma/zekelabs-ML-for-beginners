{
 "cells": [
  {
   "cell_type": "code",
   "execution_count": 1,
   "metadata": {
    "collapsed": true
   },
   "outputs": [],
   "source": [
    "import pandas as pd"
   ]
  },
  {
   "cell_type": "code",
   "execution_count": 2,
   "metadata": {
    "collapsed": true
   },
   "outputs": [],
   "source": [
    "rental_data = pd.read_csv('data/house_rental.csv', index_col='Unnamed: 0')"
   ]
  },
  {
   "cell_type": "code",
   "execution_count": 3,
   "metadata": {},
   "outputs": [
    {
     "data": {
      "text/html": [
       "<div>\n",
       "<style>\n",
       "    .dataframe thead tr:only-child th {\n",
       "        text-align: right;\n",
       "    }\n",
       "\n",
       "    .dataframe thead th {\n",
       "        text-align: left;\n",
       "    }\n",
       "\n",
       "    .dataframe tbody tr th {\n",
       "        vertical-align: top;\n",
       "    }\n",
       "</style>\n",
       "<table border=\"1\" class=\"dataframe\">\n",
       "  <thead>\n",
       "    <tr style=\"text-align: right;\">\n",
       "      <th></th>\n",
       "      <th>Sqft</th>\n",
       "      <th>Floor</th>\n",
       "      <th>TotalFloor</th>\n",
       "      <th>Bedroom</th>\n",
       "      <th>Living.Room</th>\n",
       "      <th>Bathroom</th>\n",
       "      <th>Price</th>\n",
       "    </tr>\n",
       "  </thead>\n",
       "  <tbody>\n",
       "    <tr>\n",
       "      <th>1</th>\n",
       "      <td>1177.698</td>\n",
       "      <td>2</td>\n",
       "      <td>7</td>\n",
       "      <td>2</td>\n",
       "      <td>2</td>\n",
       "      <td>2</td>\n",
       "      <td>62000</td>\n",
       "    </tr>\n",
       "    <tr>\n",
       "      <th>2</th>\n",
       "      <td>2134.800</td>\n",
       "      <td>5</td>\n",
       "      <td>7</td>\n",
       "      <td>4</td>\n",
       "      <td>2</td>\n",
       "      <td>2</td>\n",
       "      <td>78000</td>\n",
       "    </tr>\n",
       "    <tr>\n",
       "      <th>3</th>\n",
       "      <td>1138.560</td>\n",
       "      <td>5</td>\n",
       "      <td>7</td>\n",
       "      <td>2</td>\n",
       "      <td>2</td>\n",
       "      <td>1</td>\n",
       "      <td>58000</td>\n",
       "    </tr>\n",
       "    <tr>\n",
       "      <th>4</th>\n",
       "      <td>1458.780</td>\n",
       "      <td>2</td>\n",
       "      <td>7</td>\n",
       "      <td>3</td>\n",
       "      <td>2</td>\n",
       "      <td>2</td>\n",
       "      <td>45000</td>\n",
       "    </tr>\n",
       "    <tr>\n",
       "      <th>5</th>\n",
       "      <td>967.776</td>\n",
       "      <td>11</td>\n",
       "      <td>14</td>\n",
       "      <td>3</td>\n",
       "      <td>2</td>\n",
       "      <td>2</td>\n",
       "      <td>45000</td>\n",
       "    </tr>\n",
       "  </tbody>\n",
       "</table>\n",
       "</div>"
      ],
      "text/plain": [
       "       Sqft  Floor  TotalFloor  Bedroom  Living.Room  Bathroom  Price\n",
       "1  1177.698      2           7        2            2         2  62000\n",
       "2  2134.800      5           7        4            2         2  78000\n",
       "3  1138.560      5           7        2            2         1  58000\n",
       "4  1458.780      2           7        3            2         2  45000\n",
       "5   967.776     11          14        3            2         2  45000"
      ]
     },
     "execution_count": 3,
     "metadata": {},
     "output_type": "execute_result"
    }
   ],
   "source": [
    "rental_data.head()"
   ]
  },
  {
   "cell_type": "code",
   "execution_count": 4,
   "metadata": {},
   "outputs": [
    {
     "name": "stdout",
     "output_type": "stream",
     "text": [
      "<class 'pandas.core.frame.DataFrame'>\n",
      "Int64Index: 645 entries, 1 to 648\n",
      "Data columns (total 7 columns):\n",
      "Sqft           645 non-null float64\n",
      "Floor          645 non-null int64\n",
      "TotalFloor     645 non-null int64\n",
      "Bedroom        645 non-null int64\n",
      "Living.Room    645 non-null int64\n",
      "Bathroom       645 non-null int64\n",
      "Price          645 non-null int64\n",
      "dtypes: float64(1), int64(6)\n",
      "memory usage: 40.3 KB\n"
     ]
    }
   ],
   "source": [
    "rental_data.info()"
   ]
  },
  {
   "cell_type": "markdown",
   "metadata": {},
   "source": [
    "#### Feature Selection\n",
    "* Removing of all features with less variance"
   ]
  },
  {
   "cell_type": "code",
   "execution_count": 5,
   "metadata": {
    "collapsed": true
   },
   "outputs": [],
   "source": [
    "from sklearn.feature_selection import VarianceThreshold"
   ]
  },
  {
   "cell_type": "code",
   "execution_count": 6,
   "metadata": {
    "collapsed": true
   },
   "outputs": [],
   "source": [
    "import numpy as np"
   ]
  },
  {
   "cell_type": "code",
   "execution_count": 7,
   "metadata": {},
   "outputs": [
    {
     "name": "stdout",
     "output_type": "stream",
     "text": [
      "Sqft 587969.0926318591\n",
      "Floor 15.067661799170713\n",
      "TotalFloor 24.923396430502994\n",
      "Bedroom 1.0200108166576518\n",
      "Living.Room 0.21344871101496418\n",
      "Bathroom 0.4665488852833334\n",
      "Price 1267890936.3284514\n"
     ]
    }
   ],
   "source": [
    "for col in rental_data.columns.tolist():\n",
    "    print (col,np.var(rental_data[col]))"
   ]
  },
  {
   "cell_type": "code",
   "execution_count": 8,
   "metadata": {
    "collapsed": true
   },
   "outputs": [],
   "source": [
    "#As we see above, living room has least varience but not too low"
   ]
  },
  {
   "cell_type": "code",
   "execution_count": 9,
   "metadata": {
    "collapsed": true
   },
   "outputs": [],
   "source": [
    "from sklearn.feature_selection import SelectKBest,f_regression"
   ]
  },
  {
   "cell_type": "code",
   "execution_count": 10,
   "metadata": {
    "collapsed": true
   },
   "outputs": [],
   "source": [
    "feature_col = [ x for x in rental_data.columns.tolist() if x != 'Price' ]"
   ]
  },
  {
   "cell_type": "code",
   "execution_count": 11,
   "metadata": {
    "collapsed": true
   },
   "outputs": [],
   "source": [
    "X_data = rental_data[feature_col]\n",
    "y_target = rental_data['Price']"
   ]
  },
  {
   "cell_type": "code",
   "execution_count": 12,
   "metadata": {
    "collapsed": true
   },
   "outputs": [],
   "source": [
    "X_new_data = SelectKBest(score_func=f_regression, k = 5).fit_transform(X_data, y_target)"
   ]
  },
  {
   "cell_type": "code",
   "execution_count": 13,
   "metadata": {},
   "outputs": [
    {
     "data": {
      "text/plain": [
       "(645, 5)"
      ]
     },
     "execution_count": 13,
     "metadata": {},
     "output_type": "execute_result"
    }
   ],
   "source": [
    "X_new_data.shape"
   ]
  },
  {
   "cell_type": "code",
   "execution_count": 14,
   "metadata": {
    "collapsed": true
   },
   "outputs": [],
   "source": [
    "#SelectPercentile - removes all but a configured percentage imp features"
   ]
  },
  {
   "cell_type": "code",
   "execution_count": 15,
   "metadata": {
    "collapsed": true
   },
   "outputs": [],
   "source": [
    "d = SelectKBest(k = 5).fit(X_data, y_target)"
   ]
  },
  {
   "cell_type": "code",
   "execution_count": 16,
   "metadata": {},
   "outputs": [
    {
     "data": {
      "text/plain": [
       "array([ 12.98143914,   2.39966869,   2.44028919,   3.69793914,\n",
       "         2.76236087,   4.73083499])"
      ]
     },
     "execution_count": 16,
     "metadata": {},
     "output_type": "execute_result"
    }
   ],
   "source": [
    "#returns imp of each col\n",
    "d.scores_"
   ]
  },
  {
   "cell_type": "code",
   "execution_count": 17,
   "metadata": {
    "collapsed": true
   },
   "outputs": [],
   "source": [
    "from sklearn.model_selection import train_test_split"
   ]
  },
  {
   "cell_type": "code",
   "execution_count": 18,
   "metadata": {
    "collapsed": true
   },
   "outputs": [],
   "source": [
    "trainX, testX, trainY, testY = train_test_split(X_new_data, y_target)"
   ]
  },
  {
   "cell_type": "code",
   "execution_count": 19,
   "metadata": {
    "collapsed": true
   },
   "outputs": [],
   "source": [
    "from sklearn import linear_model"
   ]
  },
  {
   "cell_type": "code",
   "execution_count": 20,
   "metadata": {
    "collapsed": true
   },
   "outputs": [],
   "source": [
    "lr = linear_model.LinearRegression()"
   ]
  },
  {
   "cell_type": "code",
   "execution_count": 21,
   "metadata": {},
   "outputs": [
    {
     "data": {
      "text/plain": [
       "LinearRegression(copy_X=True, fit_intercept=True, n_jobs=1, normalize=False)"
      ]
     },
     "execution_count": 21,
     "metadata": {},
     "output_type": "execute_result"
    }
   ],
   "source": [
    "lr.fit(trainX,trainY)"
   ]
  },
  {
   "cell_type": "code",
   "execution_count": 22,
   "metadata": {},
   "outputs": [
    {
     "data": {
      "text/plain": [
       "0.74505956576389942"
      ]
     },
     "execution_count": 22,
     "metadata": {},
     "output_type": "execute_result"
    }
   ],
   "source": [
    "lr.score(testX,testY)"
   ]
  },
  {
   "cell_type": "code",
   "execution_count": 23,
   "metadata": {
    "collapsed": true
   },
   "outputs": [],
   "source": [
    "rr = linear_model.Ridge( alpha=0.5 )"
   ]
  },
  {
   "cell_type": "code",
   "execution_count": 24,
   "metadata": {},
   "outputs": [
    {
     "data": {
      "text/plain": [
       "Ridge(alpha=0.5, copy_X=True, fit_intercept=True, max_iter=None,\n",
       "   normalize=False, random_state=None, solver='auto', tol=0.001)"
      ]
     },
     "execution_count": 24,
     "metadata": {},
     "output_type": "execute_result"
    }
   ],
   "source": [
    "rr.fit(trainX,trainY)"
   ]
  },
  {
   "cell_type": "code",
   "execution_count": 25,
   "metadata": {},
   "outputs": [
    {
     "data": {
      "text/plain": [
       "0.74502264770064519"
      ]
     },
     "execution_count": 25,
     "metadata": {},
     "output_type": "execute_result"
    }
   ],
   "source": [
    "rr.score(testX,testY)"
   ]
  },
  {
   "cell_type": "code",
   "execution_count": 26,
   "metadata": {
    "collapsed": true
   },
   "outputs": [],
   "source": [
    "lasreg = linear_model.Lasso(alpha = 0.1)"
   ]
  },
  {
   "cell_type": "code",
   "execution_count": 27,
   "metadata": {},
   "outputs": [
    {
     "data": {
      "text/plain": [
       "Lasso(alpha=0.1, copy_X=True, fit_intercept=True, max_iter=1000,\n",
       "   normalize=False, positive=False, precompute=False, random_state=None,\n",
       "   selection='cyclic', tol=0.0001, warm_start=False)"
      ]
     },
     "execution_count": 27,
     "metadata": {},
     "output_type": "execute_result"
    }
   ],
   "source": [
    "lasreg.fit(trainX,trainY)"
   ]
  },
  {
   "cell_type": "code",
   "execution_count": 28,
   "metadata": {},
   "outputs": [
    {
     "data": {
      "text/plain": [
       "0.74505820026081415"
      ]
     },
     "execution_count": 28,
     "metadata": {},
     "output_type": "execute_result"
    }
   ],
   "source": [
    "lasreg.score(testX,testY)"
   ]
  },
  {
   "cell_type": "code",
   "execution_count": 29,
   "metadata": {
    "collapsed": true
   },
   "outputs": [],
   "source": [
    "enreg = linear_model.ElasticNet(alpha=0.1)"
   ]
  },
  {
   "cell_type": "code",
   "execution_count": 30,
   "metadata": {},
   "outputs": [
    {
     "data": {
      "text/plain": [
       "ElasticNet(alpha=0.1, copy_X=True, fit_intercept=True, l1_ratio=0.5,\n",
       "      max_iter=1000, normalize=False, positive=False, precompute=False,\n",
       "      random_state=None, selection='cyclic', tol=0.0001, warm_start=False)"
      ]
     },
     "execution_count": 30,
     "metadata": {},
     "output_type": "execute_result"
    }
   ],
   "source": [
    "enreg.fit(trainX,trainY)"
   ]
  },
  {
   "cell_type": "code",
   "execution_count": 31,
   "metadata": {},
   "outputs": [
    {
     "data": {
      "text/plain": [
       "0.74364025197358785"
      ]
     },
     "execution_count": 31,
     "metadata": {},
     "output_type": "execute_result"
    }
   ],
   "source": [
    "enreg.score(testX,testY)"
   ]
  },
  {
   "cell_type": "code",
   "execution_count": 32,
   "metadata": {
    "collapsed": true
   },
   "outputs": [],
   "source": [
    "from sklearn.preprocessing import PolynomialFeatures"
   ]
  },
  {
   "cell_type": "code",
   "execution_count": 33,
   "metadata": {
    "collapsed": true
   },
   "outputs": [],
   "source": [
    "pol = PolynomialFeatures(degree=3)"
   ]
  },
  {
   "cell_type": "code",
   "execution_count": 34,
   "metadata": {
    "collapsed": true
   },
   "outputs": [],
   "source": [
    "X_tf_data = pol.fit_transform(X_new_data)"
   ]
  },
  {
   "cell_type": "code",
   "execution_count": 35,
   "metadata": {
    "collapsed": true
   },
   "outputs": [],
   "source": [
    "trainX, testX, trainY, testY = train_test_split(X_tf_data, y_target)"
   ]
  },
  {
   "cell_type": "code",
   "execution_count": 44,
   "metadata": {
    "collapsed": true
   },
   "outputs": [],
   "source": [
    "models = [ linear_model.LinearRegression(),\n",
    "           linear_model.Ridge( alpha=0.5 ),\n",
    "           linear_model.Lasso(alpha = 0.1),\n",
    "           linear_model.ElasticNet(alpha=0.1)\n",
    "         ]"
   ]
  },
  {
   "cell_type": "code",
   "execution_count": 37,
   "metadata": {},
   "outputs": [
    {
     "name": "stdout",
     "output_type": "stream",
     "text": [
      "0.350238549773\n",
      "0.434381175655\n",
      "0.636702344649\n",
      "0.640693070735\n"
     ]
    },
    {
     "name": "stderr",
     "output_type": "stream",
     "text": [
      "/tensorFolder/anaconda3/lib/python3.6/site-packages/sklearn/linear_model/coordinate_descent.py:491: ConvergenceWarning: Objective did not converge. You might want to increase the number of iterations. Fitting data with very small alpha may cause precision problems.\n",
      "  ConvergenceWarning)\n"
     ]
    }
   ],
   "source": [
    "for model in models:\n",
    "    model.fit(trainX,trainY)\n",
    "    print (model.score(testX,testY))"
   ]
  },
  {
   "cell_type": "code",
   "execution_count": 38,
   "metadata": {},
   "outputs": [
    {
     "data": {
      "text/html": [
       "<div>\n",
       "<style>\n",
       "    .dataframe thead tr:only-child th {\n",
       "        text-align: right;\n",
       "    }\n",
       "\n",
       "    .dataframe thead th {\n",
       "        text-align: left;\n",
       "    }\n",
       "\n",
       "    .dataframe tbody tr th {\n",
       "        vertical-align: top;\n",
       "    }\n",
       "</style>\n",
       "<table border=\"1\" class=\"dataframe\">\n",
       "  <thead>\n",
       "    <tr style=\"text-align: right;\">\n",
       "      <th></th>\n",
       "      <th>Sqft</th>\n",
       "      <th>Floor</th>\n",
       "      <th>TotalFloor</th>\n",
       "      <th>Bedroom</th>\n",
       "      <th>Living.Room</th>\n",
       "      <th>Bathroom</th>\n",
       "      <th>Price</th>\n",
       "    </tr>\n",
       "  </thead>\n",
       "  <tbody>\n",
       "    <tr>\n",
       "      <th>Sqft</th>\n",
       "      <td>1.000000</td>\n",
       "      <td>0.143249</td>\n",
       "      <td>0.304515</td>\n",
       "      <td>0.615608</td>\n",
       "      <td>0.455940</td>\n",
       "      <td>0.728869</td>\n",
       "      <td>0.825514</td>\n",
       "    </tr>\n",
       "    <tr>\n",
       "      <th>Floor</th>\n",
       "      <td>0.143249</td>\n",
       "      <td>1.000000</td>\n",
       "      <td>0.564221</td>\n",
       "      <td>0.023986</td>\n",
       "      <td>-0.023563</td>\n",
       "      <td>0.099772</td>\n",
       "      <td>0.244553</td>\n",
       "    </tr>\n",
       "    <tr>\n",
       "      <th>TotalFloor</th>\n",
       "      <td>0.304515</td>\n",
       "      <td>0.564221</td>\n",
       "      <td>1.000000</td>\n",
       "      <td>0.067298</td>\n",
       "      <td>0.029373</td>\n",
       "      <td>0.146132</td>\n",
       "      <td>0.333631</td>\n",
       "    </tr>\n",
       "    <tr>\n",
       "      <th>Bedroom</th>\n",
       "      <td>0.615608</td>\n",
       "      <td>0.023986</td>\n",
       "      <td>0.067298</td>\n",
       "      <td>1.000000</td>\n",
       "      <td>0.526532</td>\n",
       "      <td>0.643083</td>\n",
       "      <td>0.467059</td>\n",
       "    </tr>\n",
       "    <tr>\n",
       "      <th>Living.Room</th>\n",
       "      <td>0.455940</td>\n",
       "      <td>-0.023563</td>\n",
       "      <td>0.029373</td>\n",
       "      <td>0.526532</td>\n",
       "      <td>1.000000</td>\n",
       "      <td>0.546826</td>\n",
       "      <td>0.328788</td>\n",
       "    </tr>\n",
       "    <tr>\n",
       "      <th>Bathroom</th>\n",
       "      <td>0.728869</td>\n",
       "      <td>0.099772</td>\n",
       "      <td>0.146132</td>\n",
       "      <td>0.643083</td>\n",
       "      <td>0.546826</td>\n",
       "      <td>1.000000</td>\n",
       "      <td>0.605542</td>\n",
       "    </tr>\n",
       "    <tr>\n",
       "      <th>Price</th>\n",
       "      <td>0.825514</td>\n",
       "      <td>0.244553</td>\n",
       "      <td>0.333631</td>\n",
       "      <td>0.467059</td>\n",
       "      <td>0.328788</td>\n",
       "      <td>0.605542</td>\n",
       "      <td>1.000000</td>\n",
       "    </tr>\n",
       "  </tbody>\n",
       "</table>\n",
       "</div>"
      ],
      "text/plain": [
       "                 Sqft     Floor  TotalFloor   Bedroom  Living.Room  Bathroom  \\\n",
       "Sqft         1.000000  0.143249    0.304515  0.615608     0.455940  0.728869   \n",
       "Floor        0.143249  1.000000    0.564221  0.023986    -0.023563  0.099772   \n",
       "TotalFloor   0.304515  0.564221    1.000000  0.067298     0.029373  0.146132   \n",
       "Bedroom      0.615608  0.023986    0.067298  1.000000     0.526532  0.643083   \n",
       "Living.Room  0.455940 -0.023563    0.029373  0.526532     1.000000  0.546826   \n",
       "Bathroom     0.728869  0.099772    0.146132  0.643083     0.546826  1.000000   \n",
       "Price        0.825514  0.244553    0.333631  0.467059     0.328788  0.605542   \n",
       "\n",
       "                Price  \n",
       "Sqft         0.825514  \n",
       "Floor        0.244553  \n",
       "TotalFloor   0.333631  \n",
       "Bedroom      0.467059  \n",
       "Living.Room  0.328788  \n",
       "Bathroom     0.605542  \n",
       "Price        1.000000  "
      ]
     },
     "execution_count": 38,
     "metadata": {},
     "output_type": "execute_result"
    }
   ],
   "source": [
    "rental_data.corr()"
   ]
  },
  {
   "cell_type": "code",
   "execution_count": 39,
   "metadata": {
    "collapsed": true
   },
   "outputs": [],
   "source": [
    "#Lets do some scaling\n",
    "from sklearn import preprocessing"
   ]
  },
  {
   "cell_type": "code",
   "execution_count": 40,
   "metadata": {
    "collapsed": true
   },
   "outputs": [],
   "source": [
    "minmaxscaler = preprocessing.MinMaxScaler()"
   ]
  },
  {
   "cell_type": "code",
   "execution_count": 41,
   "metadata": {
    "collapsed": true
   },
   "outputs": [],
   "source": [
    "X_data = minmaxscaler.fit_transform(X_new_data)"
   ]
  },
  {
   "cell_type": "code",
   "execution_count": 46,
   "metadata": {
    "collapsed": true
   },
   "outputs": [],
   "source": [
    "pol = PolynomialFeatures(degree=3)\n",
    "X_tf_data = pol.fit_transform(X_data)"
   ]
  },
  {
   "cell_type": "code",
   "execution_count": 47,
   "metadata": {
    "collapsed": true
   },
   "outputs": [],
   "source": [
    "trainX, testX, trainY, testY = train_test_split(X_tf_data, y_target)"
   ]
  },
  {
   "cell_type": "code",
   "execution_count": 48,
   "metadata": {},
   "outputs": [
    {
     "name": "stdout",
     "output_type": "stream",
     "text": [
      "0.25780627242\n",
      "0.705281725974\n",
      "0.595883691661\n",
      "0.545188742163\n"
     ]
    },
    {
     "name": "stderr",
     "output_type": "stream",
     "text": [
      "/tensorFolder/anaconda3/lib/python3.6/site-packages/sklearn/linear_model/coordinate_descent.py:491: ConvergenceWarning: Objective did not converge. You might want to increase the number of iterations. Fitting data with very small alpha may cause precision problems.\n",
      "  ConvergenceWarning)\n"
     ]
    }
   ],
   "source": [
    "for model in models:\n",
    "    model.fit(trainX,trainY)\n",
    "    print (model.score(testX,testY))"
   ]
  },
  {
   "cell_type": "code",
   "execution_count": null,
   "metadata": {
    "collapsed": true
   },
   "outputs": [],
   "source": []
  }
 ],
 "metadata": {
  "kernelspec": {
   "display_name": "Python 3",
   "language": "python",
   "name": "python3"
  },
  "language_info": {
   "codemirror_mode": {
    "name": "ipython",
    "version": 3
   },
   "file_extension": ".py",
   "mimetype": "text/x-python",
   "name": "python",
   "nbconvert_exporter": "python",
   "pygments_lexer": "ipython3",
   "version": "3.6.3"
  }
 },
 "nbformat": 4,
 "nbformat_minor": 2
}
