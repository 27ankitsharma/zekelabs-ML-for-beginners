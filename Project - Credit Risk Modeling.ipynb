{
 "cells": [
  {
   "cell_type": "code",
   "execution_count": 1,
   "metadata": {},
   "outputs": [],
   "source": [
    "import matplotlib.pyplot as plt\n",
    "%matplotlib inline\n",
    "import pandas as pd\n",
    "import numpy as np"
   ]
  },
  {
   "cell_type": "code",
   "execution_count": 4,
   "metadata": {},
   "outputs": [],
   "source": [
    "training_data = pd.read_csv('Data/credit-risk-data/cs-training.csv').drop('Unnamed: 0',axis=1)"
   ]
  },
  {
   "cell_type": "code",
   "execution_count": 5,
   "metadata": {},
   "outputs": [
    {
     "name": "stdout",
     "output_type": "stream",
     "text": [
      "<class 'pandas.core.frame.DataFrame'>\n",
      "RangeIndex: 150000 entries, 0 to 149999\n",
      "Data columns (total 11 columns):\n",
      "SeriousDlqin2yrs                        150000 non-null int64\n",
      "RevolvingUtilizationOfUnsecuredLines    150000 non-null float64\n",
      "age                                     150000 non-null int64\n",
      "NumberOfTime30-59DaysPastDueNotWorse    150000 non-null int64\n",
      "DebtRatio                               150000 non-null float64\n",
      "MonthlyIncome                           120269 non-null float64\n",
      "NumberOfOpenCreditLinesAndLoans         150000 non-null int64\n",
      "NumberOfTimes90DaysLate                 150000 non-null int64\n",
      "NumberRealEstateLoansOrLines            150000 non-null int64\n",
      "NumberOfTime60-89DaysPastDueNotWorse    150000 non-null int64\n",
      "NumberOfDependents                      146076 non-null float64\n",
      "dtypes: float64(4), int64(7)\n",
      "memory usage: 12.6 MB\n"
     ]
    }
   ],
   "source": [
    "training_data.info()"
   ]
  },
  {
   "cell_type": "markdown",
   "metadata": {},
   "source": [
    "### Cleanup Columns names"
   ]
  },
  {
   "cell_type": "code",
   "execution_count": 6,
   "metadata": {},
   "outputs": [],
   "source": [
    "cleancolumn = []\n",
    "for i in range(len(training_data.columns)):\n",
    "    cleancolumn.append(training_data.columns[i].replace('-','').lower())"
   ]
  },
  {
   "cell_type": "code",
   "execution_count": 8,
   "metadata": {},
   "outputs": [],
   "source": [
    "training_data.columns = cleancolumn"
   ]
  },
  {
   "cell_type": "code",
   "execution_count": 9,
   "metadata": {},
   "outputs": [
    {
     "data": {
      "text/html": [
       "<div>\n",
       "<style scoped>\n",
       "    .dataframe tbody tr th:only-of-type {\n",
       "        vertical-align: middle;\n",
       "    }\n",
       "\n",
       "    .dataframe tbody tr th {\n",
       "        vertical-align: top;\n",
       "    }\n",
       "\n",
       "    .dataframe thead th {\n",
       "        text-align: right;\n",
       "    }\n",
       "</style>\n",
       "<table border=\"1\" class=\"dataframe\">\n",
       "  <thead>\n",
       "    <tr style=\"text-align: right;\">\n",
       "      <th></th>\n",
       "      <th>seriousdlqin2yrs</th>\n",
       "      <th>revolvingutilizationofunsecuredlines</th>\n",
       "      <th>age</th>\n",
       "      <th>numberoftime3059dayspastduenotworse</th>\n",
       "      <th>debtratio</th>\n",
       "      <th>monthlyincome</th>\n",
       "      <th>numberofopencreditlinesandloans</th>\n",
       "      <th>numberoftimes90dayslate</th>\n",
       "      <th>numberrealestateloansorlines</th>\n",
       "      <th>numberoftime6089dayspastduenotworse</th>\n",
       "      <th>numberofdependents</th>\n",
       "    </tr>\n",
       "  </thead>\n",
       "  <tbody>\n",
       "    <tr>\n",
       "      <th>0</th>\n",
       "      <td>1</td>\n",
       "      <td>0.766127</td>\n",
       "      <td>45</td>\n",
       "      <td>2</td>\n",
       "      <td>0.802982</td>\n",
       "      <td>9120.0</td>\n",
       "      <td>13</td>\n",
       "      <td>0</td>\n",
       "      <td>6</td>\n",
       "      <td>0</td>\n",
       "      <td>2.0</td>\n",
       "    </tr>\n",
       "    <tr>\n",
       "      <th>1</th>\n",
       "      <td>0</td>\n",
       "      <td>0.957151</td>\n",
       "      <td>40</td>\n",
       "      <td>0</td>\n",
       "      <td>0.121876</td>\n",
       "      <td>2600.0</td>\n",
       "      <td>4</td>\n",
       "      <td>0</td>\n",
       "      <td>0</td>\n",
       "      <td>0</td>\n",
       "      <td>1.0</td>\n",
       "    </tr>\n",
       "    <tr>\n",
       "      <th>2</th>\n",
       "      <td>0</td>\n",
       "      <td>0.658180</td>\n",
       "      <td>38</td>\n",
       "      <td>1</td>\n",
       "      <td>0.085113</td>\n",
       "      <td>3042.0</td>\n",
       "      <td>2</td>\n",
       "      <td>1</td>\n",
       "      <td>0</td>\n",
       "      <td>0</td>\n",
       "      <td>0.0</td>\n",
       "    </tr>\n",
       "    <tr>\n",
       "      <th>3</th>\n",
       "      <td>0</td>\n",
       "      <td>0.233810</td>\n",
       "      <td>30</td>\n",
       "      <td>0</td>\n",
       "      <td>0.036050</td>\n",
       "      <td>3300.0</td>\n",
       "      <td>5</td>\n",
       "      <td>0</td>\n",
       "      <td>0</td>\n",
       "      <td>0</td>\n",
       "      <td>0.0</td>\n",
       "    </tr>\n",
       "    <tr>\n",
       "      <th>4</th>\n",
       "      <td>0</td>\n",
       "      <td>0.907239</td>\n",
       "      <td>49</td>\n",
       "      <td>1</td>\n",
       "      <td>0.024926</td>\n",
       "      <td>63588.0</td>\n",
       "      <td>7</td>\n",
       "      <td>0</td>\n",
       "      <td>1</td>\n",
       "      <td>0</td>\n",
       "      <td>0.0</td>\n",
       "    </tr>\n",
       "  </tbody>\n",
       "</table>\n",
       "</div>"
      ],
      "text/plain": [
       "   seriousdlqin2yrs  revolvingutilizationofunsecuredlines  age  \\\n",
       "0                 1                              0.766127   45   \n",
       "1                 0                              0.957151   40   \n",
       "2                 0                              0.658180   38   \n",
       "3                 0                              0.233810   30   \n",
       "4                 0                              0.907239   49   \n",
       "\n",
       "   numberoftime3059dayspastduenotworse  debtratio  monthlyincome  \\\n",
       "0                                    2   0.802982         9120.0   \n",
       "1                                    0   0.121876         2600.0   \n",
       "2                                    1   0.085113         3042.0   \n",
       "3                                    0   0.036050         3300.0   \n",
       "4                                    1   0.024926        63588.0   \n",
       "\n",
       "   numberofopencreditlinesandloans  numberoftimes90dayslate  \\\n",
       "0                               13                        0   \n",
       "1                                4                        0   \n",
       "2                                2                        1   \n",
       "3                                5                        0   \n",
       "4                                7                        0   \n",
       "\n",
       "   numberrealestateloansorlines  numberoftime6089dayspastduenotworse  \\\n",
       "0                             6                                    0   \n",
       "1                             0                                    0   \n",
       "2                             0                                    0   \n",
       "3                             0                                    0   \n",
       "4                             1                                    0   \n",
       "\n",
       "   numberofdependents  \n",
       "0                 2.0  \n",
       "1                 1.0  \n",
       "2                 0.0  \n",
       "3                 0.0  \n",
       "4                 0.0  "
      ]
     },
     "execution_count": 9,
     "metadata": {},
     "output_type": "execute_result"
    }
   ],
   "source": [
    "training_data.head()"
   ]
  },
  {
   "cell_type": "code",
   "execution_count": 10,
   "metadata": {},
   "outputs": [
    {
     "data": {
      "text/html": [
       "<div>\n",
       "<style scoped>\n",
       "    .dataframe tbody tr th:only-of-type {\n",
       "        vertical-align: middle;\n",
       "    }\n",
       "\n",
       "    .dataframe tbody tr th {\n",
       "        vertical-align: top;\n",
       "    }\n",
       "\n",
       "    .dataframe thead th {\n",
       "        text-align: right;\n",
       "    }\n",
       "</style>\n",
       "<table border=\"1\" class=\"dataframe\">\n",
       "  <thead>\n",
       "    <tr style=\"text-align: right;\">\n",
       "      <th></th>\n",
       "      <th>seriousdlqin2yrs</th>\n",
       "      <th>revolvingutilizationofunsecuredlines</th>\n",
       "      <th>age</th>\n",
       "      <th>numberoftime3059dayspastduenotworse</th>\n",
       "      <th>debtratio</th>\n",
       "      <th>monthlyincome</th>\n",
       "      <th>numberofopencreditlinesandloans</th>\n",
       "      <th>numberoftimes90dayslate</th>\n",
       "      <th>numberrealestateloansorlines</th>\n",
       "      <th>numberoftime6089dayspastduenotworse</th>\n",
       "      <th>numberofdependents</th>\n",
       "    </tr>\n",
       "  </thead>\n",
       "  <tbody>\n",
       "    <tr>\n",
       "      <th>count</th>\n",
       "      <td>150000.000000</td>\n",
       "      <td>150000.000000</td>\n",
       "      <td>150000.000000</td>\n",
       "      <td>150000.000000</td>\n",
       "      <td>150000.000000</td>\n",
       "      <td>1.202690e+05</td>\n",
       "      <td>150000.000000</td>\n",
       "      <td>150000.000000</td>\n",
       "      <td>150000.000000</td>\n",
       "      <td>150000.000000</td>\n",
       "      <td>146076.000000</td>\n",
       "    </tr>\n",
       "    <tr>\n",
       "      <th>mean</th>\n",
       "      <td>0.066840</td>\n",
       "      <td>6.048438</td>\n",
       "      <td>52.295207</td>\n",
       "      <td>0.421033</td>\n",
       "      <td>353.005076</td>\n",
       "      <td>6.670221e+03</td>\n",
       "      <td>8.452760</td>\n",
       "      <td>0.265973</td>\n",
       "      <td>1.018240</td>\n",
       "      <td>0.240387</td>\n",
       "      <td>0.757222</td>\n",
       "    </tr>\n",
       "    <tr>\n",
       "      <th>std</th>\n",
       "      <td>0.249746</td>\n",
       "      <td>249.755371</td>\n",
       "      <td>14.771866</td>\n",
       "      <td>4.192781</td>\n",
       "      <td>2037.818523</td>\n",
       "      <td>1.438467e+04</td>\n",
       "      <td>5.145951</td>\n",
       "      <td>4.169304</td>\n",
       "      <td>1.129771</td>\n",
       "      <td>4.155179</td>\n",
       "      <td>1.115086</td>\n",
       "    </tr>\n",
       "    <tr>\n",
       "      <th>min</th>\n",
       "      <td>0.000000</td>\n",
       "      <td>0.000000</td>\n",
       "      <td>0.000000</td>\n",
       "      <td>0.000000</td>\n",
       "      <td>0.000000</td>\n",
       "      <td>0.000000e+00</td>\n",
       "      <td>0.000000</td>\n",
       "      <td>0.000000</td>\n",
       "      <td>0.000000</td>\n",
       "      <td>0.000000</td>\n",
       "      <td>0.000000</td>\n",
       "    </tr>\n",
       "    <tr>\n",
       "      <th>25%</th>\n",
       "      <td>0.000000</td>\n",
       "      <td>0.029867</td>\n",
       "      <td>41.000000</td>\n",
       "      <td>0.000000</td>\n",
       "      <td>0.175074</td>\n",
       "      <td>3.400000e+03</td>\n",
       "      <td>5.000000</td>\n",
       "      <td>0.000000</td>\n",
       "      <td>0.000000</td>\n",
       "      <td>0.000000</td>\n",
       "      <td>0.000000</td>\n",
       "    </tr>\n",
       "    <tr>\n",
       "      <th>50%</th>\n",
       "      <td>0.000000</td>\n",
       "      <td>0.154181</td>\n",
       "      <td>52.000000</td>\n",
       "      <td>0.000000</td>\n",
       "      <td>0.366508</td>\n",
       "      <td>5.400000e+03</td>\n",
       "      <td>8.000000</td>\n",
       "      <td>0.000000</td>\n",
       "      <td>1.000000</td>\n",
       "      <td>0.000000</td>\n",
       "      <td>0.000000</td>\n",
       "    </tr>\n",
       "    <tr>\n",
       "      <th>75%</th>\n",
       "      <td>0.000000</td>\n",
       "      <td>0.559046</td>\n",
       "      <td>63.000000</td>\n",
       "      <td>0.000000</td>\n",
       "      <td>0.868254</td>\n",
       "      <td>8.249000e+03</td>\n",
       "      <td>11.000000</td>\n",
       "      <td>0.000000</td>\n",
       "      <td>2.000000</td>\n",
       "      <td>0.000000</td>\n",
       "      <td>1.000000</td>\n",
       "    </tr>\n",
       "    <tr>\n",
       "      <th>max</th>\n",
       "      <td>1.000000</td>\n",
       "      <td>50708.000000</td>\n",
       "      <td>109.000000</td>\n",
       "      <td>98.000000</td>\n",
       "      <td>329664.000000</td>\n",
       "      <td>3.008750e+06</td>\n",
       "      <td>58.000000</td>\n",
       "      <td>98.000000</td>\n",
       "      <td>54.000000</td>\n",
       "      <td>98.000000</td>\n",
       "      <td>20.000000</td>\n",
       "    </tr>\n",
       "  </tbody>\n",
       "</table>\n",
       "</div>"
      ],
      "text/plain": [
       "       seriousdlqin2yrs  revolvingutilizationofunsecuredlines            age  \\\n",
       "count     150000.000000                         150000.000000  150000.000000   \n",
       "mean           0.066840                              6.048438      52.295207   \n",
       "std            0.249746                            249.755371      14.771866   \n",
       "min            0.000000                              0.000000       0.000000   \n",
       "25%            0.000000                              0.029867      41.000000   \n",
       "50%            0.000000                              0.154181      52.000000   \n",
       "75%            0.000000                              0.559046      63.000000   \n",
       "max            1.000000                          50708.000000     109.000000   \n",
       "\n",
       "       numberoftime3059dayspastduenotworse      debtratio  monthlyincome  \\\n",
       "count                        150000.000000  150000.000000   1.202690e+05   \n",
       "mean                              0.421033     353.005076   6.670221e+03   \n",
       "std                               4.192781    2037.818523   1.438467e+04   \n",
       "min                               0.000000       0.000000   0.000000e+00   \n",
       "25%                               0.000000       0.175074   3.400000e+03   \n",
       "50%                               0.000000       0.366508   5.400000e+03   \n",
       "75%                               0.000000       0.868254   8.249000e+03   \n",
       "max                              98.000000  329664.000000   3.008750e+06   \n",
       "\n",
       "       numberofopencreditlinesandloans  numberoftimes90dayslate  \\\n",
       "count                    150000.000000            150000.000000   \n",
       "mean                          8.452760                 0.265973   \n",
       "std                           5.145951                 4.169304   \n",
       "min                           0.000000                 0.000000   \n",
       "25%                           5.000000                 0.000000   \n",
       "50%                           8.000000                 0.000000   \n",
       "75%                          11.000000                 0.000000   \n",
       "max                          58.000000                98.000000   \n",
       "\n",
       "       numberrealestateloansorlines  numberoftime6089dayspastduenotworse  \\\n",
       "count                 150000.000000                        150000.000000   \n",
       "mean                       1.018240                             0.240387   \n",
       "std                        1.129771                             4.155179   \n",
       "min                        0.000000                             0.000000   \n",
       "25%                        0.000000                             0.000000   \n",
       "50%                        1.000000                             0.000000   \n",
       "75%                        2.000000                             0.000000   \n",
       "max                       54.000000                            98.000000   \n",
       "\n",
       "       numberofdependents  \n",
       "count       146076.000000  \n",
       "mean             0.757222  \n",
       "std              1.115086  \n",
       "min              0.000000  \n",
       "25%              0.000000  \n",
       "50%              0.000000  \n",
       "75%              1.000000  \n",
       "max             20.000000  "
      ]
     },
     "execution_count": 10,
     "metadata": {},
     "output_type": "execute_result"
    }
   ],
   "source": [
    "training_data.describe()"
   ]
  },
  {
   "cell_type": "code",
   "execution_count": 11,
   "metadata": {},
   "outputs": [
    {
     "data": {
      "text/plain": [
       "revolvingutilizationofunsecuredlines       0.154181\n",
       "age                                       52.000000\n",
       "numberoftime3059dayspastduenotworse        0.000000\n",
       "debtratio                                  0.366508\n",
       "monthlyincome                           5400.000000\n",
       "numberofopencreditlinesandloans            8.000000\n",
       "numberoftimes90dayslate                    0.000000\n",
       "numberrealestateloansorlines               1.000000\n",
       "numberoftime6089dayspastduenotworse        0.000000\n",
       "numberofdependents                         0.000000\n",
       "dtype: float64"
      ]
     },
     "execution_count": 11,
     "metadata": {},
     "output_type": "execute_result"
    }
   ],
   "source": [
    "training_data[training_data.columns[1:]].median()"
   ]
  },
  {
   "cell_type": "code",
   "execution_count": 12,
   "metadata": {},
   "outputs": [
    {
     "data": {
      "text/plain": [
       "revolvingutilizationofunsecuredlines       6.048438\n",
       "age                                       52.295207\n",
       "numberoftime3059dayspastduenotworse        0.421033\n",
       "debtratio                                353.005076\n",
       "monthlyincome                           6670.221237\n",
       "numberofopencreditlinesandloans            8.452760\n",
       "numberoftimes90dayslate                    0.265973\n",
       "numberrealestateloansorlines               1.018240\n",
       "numberoftime6089dayspastduenotworse        0.240387\n",
       "numberofdependents                         0.757222\n",
       "dtype: float64"
      ]
     },
     "execution_count": 12,
     "metadata": {},
     "output_type": "execute_result"
    }
   ],
   "source": [
    "training_data[training_data.columns[1:]].mean()"
   ]
  },
  {
   "cell_type": "code",
   "execution_count": 13,
   "metadata": {},
   "outputs": [
    {
     "data": {
      "text/plain": [
       "0    93.316\n",
       "1     6.684\n",
       "Name: seriousdlqin2yrs, dtype: float64"
      ]
     },
     "execution_count": 13,
     "metadata": {},
     "output_type": "execute_result"
    }
   ],
   "source": [
    "total_len = len(training_data['seriousdlqin2yrs'])\n",
    "percentage_labels = (training_data['seriousdlqin2yrs'].value_counts()/total_len)*100\n",
    "percentage_labels"
   ]
  },
  {
   "cell_type": "code",
   "execution_count": 21,
   "metadata": {},
   "outputs": [],
   "source": [
    "df_pct = pd.DataFrame({'Type':['0','1'], 'pct':percentage_labels.values})"
   ]
  },
  {
   "cell_type": "code",
   "execution_count": 22,
   "metadata": {},
   "outputs": [
    {
     "data": {
      "text/plain": [
       "<Container object of 2 artists>"
      ]
     },
     "execution_count": 22,
     "metadata": {},
     "output_type": "execute_result"
    },
    {
     "data": {
      "image/png": "[encoded data removed]",
      "text/plain": [
       "<matplotlib.figure.Figure at 0x189b0084f60>"
      ]
     },
     "metadata": {},
     "output_type": "display_data"
    }
   ],
   "source": [
    "plt.bar(x=df_pct.Type, height=df_pct.pct)"
   ]
  },
  {
   "cell_type": "markdown",
   "metadata": {},
   "source": [
    "### Missing Values"
   ]
  },
  {
   "cell_type": "code",
   "execution_count": 23,
   "metadata": {},
   "outputs": [
    {
     "data": {
      "text/plain": [
       "seriousdlqin2yrs                            0\n",
       "revolvingutilizationofunsecuredlines        0\n",
       "age                                         0\n",
       "numberoftime3059dayspastduenotworse         0\n",
       "debtratio                                   0\n",
       "monthlyincome                           29731\n",
       "numberofopencreditlinesandloans             0\n",
       "numberoftimes90dayslate                     0\n",
       "numberrealestateloansorlines                0\n",
       "numberoftime6089dayspastduenotworse         0\n",
       "numberofdependents                       3924\n",
       "dtype: int64"
      ]
     },
     "execution_count": 23,
     "metadata": {},
     "output_type": "execute_result"
    }
   ],
   "source": [
    "training_data.isnull().sum()"
   ]
  },
  {
   "cell_type": "code",
   "execution_count": 24,
   "metadata": {},
   "outputs": [],
   "source": [
    "missing_values = training_data.isnull().sum()"
   ]
  },
  {
   "cell_type": "code",
   "execution_count": 26,
   "metadata": {},
   "outputs": [],
   "source": [
    "df_m = pd.DataFrame({'col':missing_values.index,'cnt':missing_values.values})"
   ]
  },
  {
   "cell_type": "code",
   "execution_count": 28,
   "metadata": {},
   "outputs": [
    {
     "data": {
      "text/plain": [
       "([0, 1, 2, 3, 4, 5, 6, 7, 8, 9, 10], <a list of 11 Text xticklabel objects>)"
      ]
     },
     "execution_count": 28,
     "metadata": {},
     "output_type": "execute_result"
    },
    {
     "data": {
      "image/png": "[encoded data removed]",
      "text/plain": [
       "<matplotlib.figure.Figure at 0x189b09aeeb8>"
      ]
     },
     "metadata": {},
     "output_type": "display_data"
    }
   ],
   "source": [
    "plt.bar(x=df_m.col, height=df_m.cnt)\n",
    "plt.xticks(rotation=90)"
   ]
  },
  {
   "cell_type": "markdown",
   "metadata": {},
   "source": [
    "### Handling Missing Data"
   ]
  },
  {
   "cell_type": "code",
   "execution_count": 29,
   "metadata": {},
   "outputs": [
    {
     "data": {
      "text/plain": [
       "seriousdlqin2yrs                           0.000000\n",
       "revolvingutilizationofunsecuredlines       0.154181\n",
       "age                                       52.000000\n",
       "numberoftime3059dayspastduenotworse        0.000000\n",
       "debtratio                                  0.366508\n",
       "monthlyincome                           5400.000000\n",
       "numberofopencreditlinesandloans            8.000000\n",
       "numberoftimes90dayslate                    0.000000\n",
       "numberrealestateloansorlines               1.000000\n",
       "numberoftime6089dayspastduenotworse        0.000000\n",
       "numberofdependents                         0.000000\n",
       "dtype: float64"
      ]
     },
     "execution_count": 29,
     "metadata": {},
     "output_type": "execute_result"
    }
   ],
   "source": [
    "training_data.median()"
   ]
  },
  {
   "cell_type": "code",
   "execution_count": 30,
   "metadata": {},
   "outputs": [],
   "source": [
    "training_data_median_replace = training_data.fillna(training_data.median())"
   ]
  },
  {
   "cell_type": "code",
   "execution_count": 31,
   "metadata": {},
   "outputs": [
    {
     "data": {
      "text/html": [
       "<div>\n",
       "<style scoped>\n",
       "    .dataframe tbody tr th:only-of-type {\n",
       "        vertical-align: middle;\n",
       "    }\n",
       "\n",
       "    .dataframe tbody tr th {\n",
       "        vertical-align: top;\n",
       "    }\n",
       "\n",
       "    .dataframe thead th {\n",
       "        text-align: right;\n",
       "    }\n",
       "</style>\n",
       "<table border=\"1\" class=\"dataframe\">\n",
       "  <thead>\n",
       "    <tr style=\"text-align: right;\">\n",
       "      <th></th>\n",
       "      <th>seriousdlqin2yrs</th>\n",
       "      <th>revolvingutilizationofunsecuredlines</th>\n",
       "      <th>age</th>\n",
       "      <th>numberoftime3059dayspastduenotworse</th>\n",
       "      <th>debtratio</th>\n",
       "      <th>monthlyincome</th>\n",
       "      <th>numberofopencreditlinesandloans</th>\n",
       "      <th>numberoftimes90dayslate</th>\n",
       "      <th>numberrealestateloansorlines</th>\n",
       "      <th>numberoftime6089dayspastduenotworse</th>\n",
       "      <th>numberofdependents</th>\n",
       "    </tr>\n",
       "  </thead>\n",
       "  <tbody>\n",
       "    <tr>\n",
       "      <th>0</th>\n",
       "      <td>1</td>\n",
       "      <td>0.766127</td>\n",
       "      <td>45</td>\n",
       "      <td>2</td>\n",
       "      <td>0.802982</td>\n",
       "      <td>9120.0</td>\n",
       "      <td>13</td>\n",
       "      <td>0</td>\n",
       "      <td>6</td>\n",
       "      <td>0</td>\n",
       "      <td>2.0</td>\n",
       "    </tr>\n",
       "    <tr>\n",
       "      <th>1</th>\n",
       "      <td>0</td>\n",
       "      <td>0.957151</td>\n",
       "      <td>40</td>\n",
       "      <td>0</td>\n",
       "      <td>0.121876</td>\n",
       "      <td>2600.0</td>\n",
       "      <td>4</td>\n",
       "      <td>0</td>\n",
       "      <td>0</td>\n",
       "      <td>0</td>\n",
       "      <td>1.0</td>\n",
       "    </tr>\n",
       "    <tr>\n",
       "      <th>2</th>\n",
       "      <td>0</td>\n",
       "      <td>0.658180</td>\n",
       "      <td>38</td>\n",
       "      <td>1</td>\n",
       "      <td>0.085113</td>\n",
       "      <td>3042.0</td>\n",
       "      <td>2</td>\n",
       "      <td>1</td>\n",
       "      <td>0</td>\n",
       "      <td>0</td>\n",
       "      <td>0.0</td>\n",
       "    </tr>\n",
       "    <tr>\n",
       "      <th>3</th>\n",
       "      <td>0</td>\n",
       "      <td>0.233810</td>\n",
       "      <td>30</td>\n",
       "      <td>0</td>\n",
       "      <td>0.036050</td>\n",
       "      <td>3300.0</td>\n",
       "      <td>5</td>\n",
       "      <td>0</td>\n",
       "      <td>0</td>\n",
       "      <td>0</td>\n",
       "      <td>0.0</td>\n",
       "    </tr>\n",
       "    <tr>\n",
       "      <th>4</th>\n",
       "      <td>0</td>\n",
       "      <td>0.907239</td>\n",
       "      <td>49</td>\n",
       "      <td>1</td>\n",
       "      <td>0.024926</td>\n",
       "      <td>63588.0</td>\n",
       "      <td>7</td>\n",
       "      <td>0</td>\n",
       "      <td>1</td>\n",
       "      <td>0</td>\n",
       "      <td>0.0</td>\n",
       "    </tr>\n",
       "  </tbody>\n",
       "</table>\n",
       "</div>"
      ],
      "text/plain": [
       "   seriousdlqin2yrs  revolvingutilizationofunsecuredlines  age  \\\n",
       "0                 1                              0.766127   45   \n",
       "1                 0                              0.957151   40   \n",
       "2                 0                              0.658180   38   \n",
       "3                 0                              0.233810   30   \n",
       "4                 0                              0.907239   49   \n",
       "\n",
       "   numberoftime3059dayspastduenotworse  debtratio  monthlyincome  \\\n",
       "0                                    2   0.802982         9120.0   \n",
       "1                                    0   0.121876         2600.0   \n",
       "2                                    1   0.085113         3042.0   \n",
       "3                                    0   0.036050         3300.0   \n",
       "4                                    1   0.024926        63588.0   \n",
       "\n",
       "   numberofopencreditlinesandloans  numberoftimes90dayslate  \\\n",
       "0                               13                        0   \n",
       "1                                4                        0   \n",
       "2                                2                        1   \n",
       "3                                5                        0   \n",
       "4                                7                        0   \n",
       "\n",
       "   numberrealestateloansorlines  numberoftime6089dayspastduenotworse  \\\n",
       "0                             6                                    0   \n",
       "1                             0                                    0   \n",
       "2                             0                                    0   \n",
       "3                             0                                    0   \n",
       "4                             1                                    0   \n",
       "\n",
       "   numberofdependents  \n",
       "0                 2.0  \n",
       "1                 1.0  \n",
       "2                 0.0  \n",
       "3                 0.0  \n",
       "4                 0.0  "
      ]
     },
     "execution_count": 31,
     "metadata": {},
     "output_type": "execute_result"
    }
   ],
   "source": [
    "training_data_median_replace.head()"
   ]
  },
  {
   "cell_type": "code",
   "execution_count": 33,
   "metadata": {},
   "outputs": [
    {
     "name": "stdout",
     "output_type": "stream",
     "text": [
      "<class 'pandas.core.frame.DataFrame'>\n",
      "RangeIndex: 150000 entries, 0 to 149999\n",
      "Data columns (total 11 columns):\n",
      "seriousdlqin2yrs                        150000 non-null int64\n",
      "revolvingutilizationofunsecuredlines    150000 non-null float64\n",
      "age                                     150000 non-null int64\n",
      "numberoftime3059dayspastduenotworse     150000 non-null int64\n",
      "debtratio                               150000 non-null float64\n",
      "monthlyincome                           150000 non-null float64\n",
      "numberofopencreditlinesandloans         150000 non-null int64\n",
      "numberoftimes90dayslate                 150000 non-null int64\n",
      "numberrealestateloansorlines            150000 non-null int64\n",
      "numberoftime6089dayspastduenotworse     150000 non-null int64\n",
      "numberofdependents                      150000 non-null float64\n",
      "dtypes: float64(4), int64(7)\n",
      "memory usage: 12.6 MB\n"
     ]
    }
   ],
   "source": [
    "training_data_median_replace.info()"
   ]
  },
  {
   "cell_type": "code",
   "execution_count": 34,
   "metadata": {},
   "outputs": [],
   "source": [
    "training_data.fillna((training_data.median()), inplace=True)"
   ]
  },
  {
   "cell_type": "code",
   "execution_count": 35,
   "metadata": {},
   "outputs": [
    {
     "name": "stdout",
     "output_type": "stream",
     "text": [
      "<class 'pandas.core.frame.DataFrame'>\n",
      "RangeIndex: 150000 entries, 0 to 149999\n",
      "Data columns (total 11 columns):\n",
      "seriousdlqin2yrs                        150000 non-null int64\n",
      "revolvingutilizationofunsecuredlines    150000 non-null float64\n",
      "age                                     150000 non-null int64\n",
      "numberoftime3059dayspastduenotworse     150000 non-null int64\n",
      "debtratio                               150000 non-null float64\n",
      "monthlyincome                           150000 non-null float64\n",
      "numberofopencreditlinesandloans         150000 non-null int64\n",
      "numberoftimes90dayslate                 150000 non-null int64\n",
      "numberrealestateloansorlines            150000 non-null int64\n",
      "numberoftime6089dayspastduenotworse     150000 non-null int64\n",
      "numberofdependents                      150000 non-null float64\n",
      "dtypes: float64(4), int64(7)\n",
      "memory usage: 12.6 MB\n"
     ]
    }
   ],
   "source": [
    "training_data.info()"
   ]
  },
  {
   "cell_type": "code",
   "execution_count": 36,
   "metadata": {},
   "outputs": [
    {
     "data": {
      "text/html": [
       "<div>\n",
       "<style scoped>\n",
       "    .dataframe tbody tr th:only-of-type {\n",
       "        vertical-align: middle;\n",
       "    }\n",
       "\n",
       "    .dataframe tbody tr th {\n",
       "        vertical-align: top;\n",
       "    }\n",
       "\n",
       "    .dataframe thead th {\n",
       "        text-align: right;\n",
       "    }\n",
       "</style>\n",
       "<table border=\"1\" class=\"dataframe\">\n",
       "  <thead>\n",
       "    <tr style=\"text-align: right;\">\n",
       "      <th></th>\n",
       "      <th>revolvingutilizationofunsecuredlines</th>\n",
       "      <th>age</th>\n",
       "      <th>numberoftime3059dayspastduenotworse</th>\n",
       "      <th>debtratio</th>\n",
       "      <th>monthlyincome</th>\n",
       "      <th>numberofopencreditlinesandloans</th>\n",
       "      <th>numberoftimes90dayslate</th>\n",
       "      <th>numberrealestateloansorlines</th>\n",
       "      <th>numberoftime6089dayspastduenotworse</th>\n",
       "      <th>numberofdependents</th>\n",
       "    </tr>\n",
       "  </thead>\n",
       "  <tbody>\n",
       "    <tr>\n",
       "      <th>revolvingutilizationofunsecuredlines</th>\n",
       "      <td>1.000000</td>\n",
       "      <td>-0.005898</td>\n",
       "      <td>-0.001314</td>\n",
       "      <td>0.003961</td>\n",
       "      <td>0.006513</td>\n",
       "      <td>-0.011281</td>\n",
       "      <td>-0.001061</td>\n",
       "      <td>0.006235</td>\n",
       "      <td>-0.001048</td>\n",
       "      <td>0.001193</td>\n",
       "    </tr>\n",
       "    <tr>\n",
       "      <th>age</th>\n",
       "      <td>-0.005898</td>\n",
       "      <td>1.000000</td>\n",
       "      <td>-0.062995</td>\n",
       "      <td>0.024188</td>\n",
       "      <td>0.027581</td>\n",
       "      <td>0.147705</td>\n",
       "      <td>-0.061005</td>\n",
       "      <td>0.033150</td>\n",
       "      <td>-0.057159</td>\n",
       "      <td>-0.215693</td>\n",
       "    </tr>\n",
       "    <tr>\n",
       "      <th>numberoftime3059dayspastduenotworse</th>\n",
       "      <td>-0.001314</td>\n",
       "      <td>-0.062995</td>\n",
       "      <td>1.000000</td>\n",
       "      <td>-0.006542</td>\n",
       "      <td>-0.008370</td>\n",
       "      <td>-0.055312</td>\n",
       "      <td>0.983603</td>\n",
       "      <td>-0.030565</td>\n",
       "      <td>0.987005</td>\n",
       "      <td>-0.004590</td>\n",
       "    </tr>\n",
       "    <tr>\n",
       "      <th>debtratio</th>\n",
       "      <td>0.003961</td>\n",
       "      <td>0.024188</td>\n",
       "      <td>-0.006542</td>\n",
       "      <td>1.000000</td>\n",
       "      <td>-0.018006</td>\n",
       "      <td>0.049565</td>\n",
       "      <td>-0.008320</td>\n",
       "      <td>0.120046</td>\n",
       "      <td>-0.007533</td>\n",
       "      <td>-0.044476</td>\n",
       "    </tr>\n",
       "    <tr>\n",
       "      <th>monthlyincome</th>\n",
       "      <td>0.006513</td>\n",
       "      <td>0.027581</td>\n",
       "      <td>-0.008370</td>\n",
       "      <td>-0.018006</td>\n",
       "      <td>1.000000</td>\n",
       "      <td>0.086949</td>\n",
       "      <td>-0.010500</td>\n",
       "      <td>0.116273</td>\n",
       "      <td>-0.009252</td>\n",
       "      <td>0.066314</td>\n",
       "    </tr>\n",
       "    <tr>\n",
       "      <th>numberofopencreditlinesandloans</th>\n",
       "      <td>-0.011281</td>\n",
       "      <td>0.147705</td>\n",
       "      <td>-0.055312</td>\n",
       "      <td>0.049565</td>\n",
       "      <td>0.086949</td>\n",
       "      <td>1.000000</td>\n",
       "      <td>-0.079984</td>\n",
       "      <td>0.433959</td>\n",
       "      <td>-0.071077</td>\n",
       "      <td>0.074026</td>\n",
       "    </tr>\n",
       "    <tr>\n",
       "      <th>numberoftimes90dayslate</th>\n",
       "      <td>-0.001061</td>\n",
       "      <td>-0.061005</td>\n",
       "      <td>0.983603</td>\n",
       "      <td>-0.008320</td>\n",
       "      <td>-0.010500</td>\n",
       "      <td>-0.079984</td>\n",
       "      <td>1.000000</td>\n",
       "      <td>-0.045205</td>\n",
       "      <td>0.992796</td>\n",
       "      <td>-0.011962</td>\n",
       "    </tr>\n",
       "    <tr>\n",
       "      <th>numberrealestateloansorlines</th>\n",
       "      <td>0.006235</td>\n",
       "      <td>0.033150</td>\n",
       "      <td>-0.030565</td>\n",
       "      <td>0.120046</td>\n",
       "      <td>0.116273</td>\n",
       "      <td>0.433959</td>\n",
       "      <td>-0.045205</td>\n",
       "      <td>1.000000</td>\n",
       "      <td>-0.039722</td>\n",
       "      <td>0.129399</td>\n",
       "    </tr>\n",
       "    <tr>\n",
       "      <th>numberoftime6089dayspastduenotworse</th>\n",
       "      <td>-0.001048</td>\n",
       "      <td>-0.057159</td>\n",
       "      <td>0.987005</td>\n",
       "      <td>-0.007533</td>\n",
       "      <td>-0.009252</td>\n",
       "      <td>-0.071077</td>\n",
       "      <td>0.992796</td>\n",
       "      <td>-0.039722</td>\n",
       "      <td>1.000000</td>\n",
       "      <td>-0.012678</td>\n",
       "    </tr>\n",
       "    <tr>\n",
       "      <th>numberofdependents</th>\n",
       "      <td>0.001193</td>\n",
       "      <td>-0.215693</td>\n",
       "      <td>-0.004590</td>\n",
       "      <td>-0.044476</td>\n",
       "      <td>0.066314</td>\n",
       "      <td>0.074026</td>\n",
       "      <td>-0.011962</td>\n",
       "      <td>0.129399</td>\n",
       "      <td>-0.012678</td>\n",
       "      <td>1.000000</td>\n",
       "    </tr>\n",
       "  </tbody>\n",
       "</table>\n",
       "</div>"
      ],
      "text/plain": [
       "                                      revolvingutilizationofunsecuredlines  \\\n",
       "revolvingutilizationofunsecuredlines                              1.000000   \n",
       "age                                                              -0.005898   \n",
       "numberoftime3059dayspastduenotworse                              -0.001314   \n",
       "debtratio                                                         0.003961   \n",
       "monthlyincome                                                     0.006513   \n",
       "numberofopencreditlinesandloans                                  -0.011281   \n",
       "numberoftimes90dayslate                                          -0.001061   \n",
       "numberrealestateloansorlines                                      0.006235   \n",
       "numberoftime6089dayspastduenotworse                              -0.001048   \n",
       "numberofdependents                                                0.001193   \n",
       "\n",
       "                                           age  \\\n",
       "revolvingutilizationofunsecuredlines -0.005898   \n",
       "age                                   1.000000   \n",
       "numberoftime3059dayspastduenotworse  -0.062995   \n",
       "debtratio                             0.024188   \n",
       "monthlyincome                         0.027581   \n",
       "numberofopencreditlinesandloans       0.147705   \n",
       "numberoftimes90dayslate              -0.061005   \n",
       "numberrealestateloansorlines          0.033150   \n",
       "numberoftime6089dayspastduenotworse  -0.057159   \n",
       "numberofdependents                   -0.215693   \n",
       "\n",
       "                                      numberoftime3059dayspastduenotworse  \\\n",
       "revolvingutilizationofunsecuredlines                            -0.001314   \n",
       "age                                                             -0.062995   \n",
       "numberoftime3059dayspastduenotworse                              1.000000   \n",
       "debtratio                                                       -0.006542   \n",
       "monthlyincome                                                   -0.008370   \n",
       "numberofopencreditlinesandloans                                 -0.055312   \n",
       "numberoftimes90dayslate                                          0.983603   \n",
       "numberrealestateloansorlines                                    -0.030565   \n",
       "numberoftime6089dayspastduenotworse                              0.987005   \n",
       "numberofdependents                                              -0.004590   \n",
       "\n",
       "                                      debtratio  monthlyincome  \\\n",
       "revolvingutilizationofunsecuredlines   0.003961       0.006513   \n",
       "age                                    0.024188       0.027581   \n",
       "numberoftime3059dayspastduenotworse   -0.006542      -0.008370   \n",
       "debtratio                              1.000000      -0.018006   \n",
       "monthlyincome                         -0.018006       1.000000   \n",
       "numberofopencreditlinesandloans        0.049565       0.086949   \n",
       "numberoftimes90dayslate               -0.008320      -0.010500   \n",
       "numberrealestateloansorlines           0.120046       0.116273   \n",
       "numberoftime6089dayspastduenotworse   -0.007533      -0.009252   \n",
       "numberofdependents                    -0.044476       0.066314   \n",
       "\n",
       "                                      numberofopencreditlinesandloans  \\\n",
       "revolvingutilizationofunsecuredlines                        -0.011281   \n",
       "age                                                          0.147705   \n",
       "numberoftime3059dayspastduenotworse                         -0.055312   \n",
       "debtratio                                                    0.049565   \n",
       "monthlyincome                                                0.086949   \n",
       "numberofopencreditlinesandloans                              1.000000   \n",
       "numberoftimes90dayslate                                     -0.079984   \n",
       "numberrealestateloansorlines                                 0.433959   \n",
       "numberoftime6089dayspastduenotworse                         -0.071077   \n",
       "numberofdependents                                           0.074026   \n",
       "\n",
       "                                      numberoftimes90dayslate  \\\n",
       "revolvingutilizationofunsecuredlines                -0.001061   \n",
       "age                                                 -0.061005   \n",
       "numberoftime3059dayspastduenotworse                  0.983603   \n",
       "debtratio                                           -0.008320   \n",
       "monthlyincome                                       -0.010500   \n",
       "numberofopencreditlinesandloans                     -0.079984   \n",
       "numberoftimes90dayslate                              1.000000   \n",
       "numberrealestateloansorlines                        -0.045205   \n",
       "numberoftime6089dayspastduenotworse                  0.992796   \n",
       "numberofdependents                                  -0.011962   \n",
       "\n",
       "                                      numberrealestateloansorlines  \\\n",
       "revolvingutilizationofunsecuredlines                      0.006235   \n",
       "age                                                       0.033150   \n",
       "numberoftime3059dayspastduenotworse                      -0.030565   \n",
       "debtratio                                                 0.120046   \n",
       "monthlyincome                                             0.116273   \n",
       "numberofopencreditlinesandloans                           0.433959   \n",
       "numberoftimes90dayslate                                  -0.045205   \n",
       "numberrealestateloansorlines                              1.000000   \n",
       "numberoftime6089dayspastduenotworse                      -0.039722   \n",
       "numberofdependents                                        0.129399   \n",
       "\n",
       "                                      numberoftime6089dayspastduenotworse  \\\n",
       "revolvingutilizationofunsecuredlines                            -0.001048   \n",
       "age                                                             -0.057159   \n",
       "numberoftime3059dayspastduenotworse                              0.987005   \n",
       "debtratio                                                       -0.007533   \n",
       "monthlyincome                                                   -0.009252   \n",
       "numberofopencreditlinesandloans                                 -0.071077   \n",
       "numberoftimes90dayslate                                          0.992796   \n",
       "numberrealestateloansorlines                                    -0.039722   \n",
       "numberoftime6089dayspastduenotworse                              1.000000   \n",
       "numberofdependents                                              -0.012678   \n",
       "\n",
       "                                      numberofdependents  \n",
       "revolvingutilizationofunsecuredlines            0.001193  \n",
       "age                                            -0.215693  \n",
       "numberoftime3059dayspastduenotworse            -0.004590  \n",
       "debtratio                                      -0.044476  \n",
       "monthlyincome                                   0.066314  \n",
       "numberofopencreditlinesandloans                 0.074026  \n",
       "numberoftimes90dayslate                        -0.011962  \n",
       "numberrealestateloansorlines                    0.129399  \n",
       "numberoftime6089dayspastduenotworse            -0.012678  \n",
       "numberofdependents                              1.000000  "
      ]
     },
     "execution_count": 36,
     "metadata": {},
     "output_type": "execute_result"
    }
   ],
   "source": [
    "training_data[training_data.columns[1:]].corr()"
   ]
  },
  {
   "cell_type": "code",
   "execution_count": 37,
   "metadata": {},
   "outputs": [
    {
     "data": {
      "image/png": "[encoded data removed]",
      "text/plain": [
       "<matplotlib.figure.Figure at 0x189b23c95c0>"
      ]
     },
     "metadata": {},
     "output_type": "display_data"
    }
   ],
   "source": [
    "import seaborn as sns\n",
    "sns.set()\n",
    "sns.set(font_scale=1.25)\n",
    "sns.heatmap(training_data[training_data.columns[1:]].corr(),annot=True,fmt=\".1f\")\n",
    "plt.show()"
   ]
  },
  {
   "cell_type": "markdown",
   "metadata": {},
   "source": [
    "### Outlier Detection"
   ]
  },
  {
   "cell_type": "markdown",
   "metadata": {},
   "source": [
    "### Handle Outlier"
   ]
  },
  {
   "cell_type": "markdown",
   "metadata": {},
   "source": [
    "### Feature Importances"
   ]
  },
  {
   "cell_type": "code",
   "execution_count": 38,
   "metadata": {},
   "outputs": [],
   "source": [
    "from sklearn.ensemble import RandomForestClassifier"
   ]
  },
  {
   "cell_type": "code",
   "execution_count": 40,
   "metadata": {},
   "outputs": [],
   "source": [
    "feature_label = training_data.columns[1:]"
   ]
  },
  {
   "cell_type": "code",
   "execution_count": 41,
   "metadata": {},
   "outputs": [],
   "source": [
    "X = training_data.drop('seriousdlqin2yrs',axis=1)"
   ]
  },
  {
   "cell_type": "code",
   "execution_count": 42,
   "metadata": {},
   "outputs": [],
   "source": [
    "Y = training_data.seriousdlqin2yrs"
   ]
  },
  {
   "cell_type": "code",
   "execution_count": 43,
   "metadata": {},
   "outputs": [],
   "source": [
    "forest = RandomForestClassifier(n_estimators=1000, random_state=0, n_jobs=-1)"
   ]
  },
  {
   "cell_type": "code",
   "execution_count": 44,
   "metadata": {},
   "outputs": [
    {
     "data": {
      "text/plain": [
       "RandomForestClassifier(bootstrap=True, class_weight=None, criterion='gini',\n",
       "            max_depth=None, max_features='auto', max_leaf_nodes=None,\n",
       "            min_impurity_decrease=0.0, min_impurity_split=None,\n",
       "            min_samples_leaf=1, min_samples_split=2,\n",
       "            min_weight_fraction_leaf=0.0, n_estimators=1000, n_jobs=-1,\n",
       "            oob_score=False, random_state=0, verbose=0, warm_start=False)"
      ]
     },
     "execution_count": 44,
     "metadata": {},
     "output_type": "execute_result"
    }
   ],
   "source": [
    "forest.fit(X,Y)"
   ]
  },
  {
   "cell_type": "code",
   "execution_count": 45,
   "metadata": {},
   "outputs": [
    {
     "data": {
      "text/plain": [
       "array([0.19409134, 0.12734822, 0.04923985, 0.18059792, 0.1462137 ,\n",
       "       0.08863225, 0.09040045, 0.03372021, 0.04793611, 0.04181995])"
      ]
     },
     "execution_count": 45,
     "metadata": {},
     "output_type": "execute_result"
    }
   ],
   "source": [
    "forest.feature_importances_"
   ]
  },
  {
   "cell_type": "code",
   "execution_count": 47,
   "metadata": {},
   "outputs": [],
   "source": [
    "df_fi = pd.DataFrame({'Feature':feature_label, 'importances':forest.feature_importances_})"
   ]
  },
  {
   "cell_type": "code",
   "execution_count": 49,
   "metadata": {},
   "outputs": [
    {
     "data": {
      "text/plain": [
       "([0, 1, 2, 3, 4, 5, 6, 7, 8, 9], <a list of 10 Text xticklabel objects>)"
      ]
     },
     "execution_count": 49,
     "metadata": {},
     "output_type": "execute_result"
    },
    {
     "data": {
      "image/png": "[encoded data removed]",
      "text/plain": [
       "<matplotlib.figure.Figure at 0x18982557198>"
      ]
     },
     "metadata": {},
     "output_type": "display_data"
    }
   ],
   "source": [
    "plt.bar(x=df_fi.Feature, height=df_fi.importances)\n",
    "plt.xticks(rotation=90)"
   ]
  },
  {
   "cell_type": "markdown",
   "metadata": {},
   "source": [
    "### Train & Build Baseline Model"
   ]
  },
  {
   "cell_type": "code",
   "execution_count": 50,
   "metadata": {},
   "outputs": [],
   "source": [
    "from sklearn.linear_model import LogisticRegression\n",
    "from sklearn.ensemble import AdaBoostClassifier, GradientBoostingClassifier, RandomForestClassifier"
   ]
  },
  {
   "cell_type": "code",
   "execution_count": 52,
   "metadata": {},
   "outputs": [],
   "source": [
    "from sklearn.neighbors import KNeighborsClassifier\n",
    "from sklearn.model_selection import train_test_split"
   ]
  },
  {
   "cell_type": "code",
   "execution_count": 53,
   "metadata": {},
   "outputs": [],
   "source": [
    "X_train,X_test,y_train,y_test = train_test_split(X,Y)"
   ]
  },
  {
   "cell_type": "code",
   "execution_count": 54,
   "metadata": {},
   "outputs": [],
   "source": [
    "knc = KNeighborsClassifier()"
   ]
  },
  {
   "cell_type": "code",
   "execution_count": 55,
   "metadata": {},
   "outputs": [
    {
     "data": {
      "text/plain": [
       "KNeighborsClassifier(algorithm='auto', leaf_size=30, metric='minkowski',\n",
       "           metric_params=None, n_jobs=1, n_neighbors=5, p=2,\n",
       "           weights='uniform')"
      ]
     },
     "execution_count": 55,
     "metadata": {},
     "output_type": "execute_result"
    }
   ],
   "source": [
    "knc.fit(X_train,y_train)"
   ]
  },
  {
   "cell_type": "code",
   "execution_count": 56,
   "metadata": {},
   "outputs": [
    {
     "data": {
      "text/plain": [
       "0.9316266666666667"
      ]
     },
     "execution_count": 56,
     "metadata": {},
     "output_type": "execute_result"
    }
   ],
   "source": [
    "knc.score(X_test,y_test)"
   ]
  },
  {
   "cell_type": "code",
   "execution_count": 57,
   "metadata": {},
   "outputs": [],
   "source": [
    "from sklearn.metrics import roc_auc_score"
   ]
  },
  {
   "cell_type": "code",
   "execution_count": 58,
   "metadata": {},
   "outputs": [],
   "source": [
    "test_labels = knc.predict_proba(np.array(X_test.values))[:,1]"
   ]
  },
  {
   "cell_type": "code",
   "execution_count": 60,
   "metadata": {},
   "outputs": [
    {
     "data": {
      "text/plain": [
       "0.5717146939734958"
      ]
     },
     "execution_count": 60,
     "metadata": {},
     "output_type": "execute_result"
    }
   ],
   "source": [
    "roc_auc_score(y_test,test_labels , average='macro', sample_weight=None)"
   ]
  },
  {
   "cell_type": "code",
   "execution_count": 61,
   "metadata": {},
   "outputs": [],
   "source": [
    "from sklearn.metrics import confusion_matrix"
   ]
  },
  {
   "cell_type": "code",
   "execution_count": 63,
   "metadata": {},
   "outputs": [],
   "source": [
    "t_labels = knc.predict(X_test)"
   ]
  },
  {
   "cell_type": "code",
   "execution_count": 64,
   "metadata": {},
   "outputs": [
    {
     "data": {
      "text/plain": [
       "array([[34877,    82],\n",
       "       [ 2482,    59]], dtype=int64)"
      ]
     },
     "execution_count": 64,
     "metadata": {},
     "output_type": "execute_result"
    }
   ],
   "source": [
    "confusion_matrix(y_test,t_labels)"
   ]
  },
  {
   "cell_type": "code",
   "execution_count": 65,
   "metadata": {},
   "outputs": [],
   "source": [
    "glmMod = LogisticRegression(penalty='l1', dual=False, tol=0.0001, C=1.0, fit_intercept=True,\n",
    "                            intercept_scaling=1, class_weight=None, \n",
    "                            random_state=None, solver='liblinear', max_iter=100,\n",
    "                            multi_class='ovr', verbose=2)"
   ]
  },
  {
   "cell_type": "code",
   "execution_count": 66,
   "metadata": {},
   "outputs": [
    {
     "name": "stdout",
     "output_type": "stream",
     "text": [
      "[LibLinear]"
     ]
    },
    {
     "data": {
      "text/plain": [
       "LogisticRegression(C=1.0, class_weight=None, dual=False, fit_intercept=True,\n",
       "          intercept_scaling=1, max_iter=100, multi_class='ovr', n_jobs=1,\n",
       "          penalty='l1', random_state=None, solver='liblinear', tol=0.0001,\n",
       "          verbose=2, warm_start=False)"
      ]
     },
     "execution_count": 66,
     "metadata": {},
     "output_type": "execute_result"
    }
   ],
   "source": [
    "glmMod.fit(X_train, y_train)"
   ]
  },
  {
   "cell_type": "code",
   "execution_count": 67,
   "metadata": {},
   "outputs": [
    {
     "data": {
      "text/plain": [
       "0.9329866666666666"
      ]
     },
     "execution_count": 67,
     "metadata": {},
     "output_type": "execute_result"
    }
   ],
   "source": [
    "glmMod.score(X_test, y_test)"
   ]
  },
  {
   "cell_type": "code",
   "execution_count": 68,
   "metadata": {},
   "outputs": [],
   "source": [
    "test_labels=glmMod.predict_proba(np.array(X_test.values))[:,1]"
   ]
  },
  {
   "cell_type": "code",
   "execution_count": 69,
   "metadata": {},
   "outputs": [
    {
     "data": {
      "text/plain": [
       "0.6975751118539163"
      ]
     },
     "execution_count": 69,
     "metadata": {},
     "output_type": "execute_result"
    }
   ],
   "source": [
    "roc_auc_score(y_test,test_labels , average='macro', sample_weight=None)"
   ]
  },
  {
   "cell_type": "code",
   "execution_count": 70,
   "metadata": {},
   "outputs": [],
   "source": [
    "adaMod = AdaBoostClassifier(base_estimator=None, n_estimators=200, learning_rate=1.0)"
   ]
  },
  {
   "cell_type": "code",
   "execution_count": 71,
   "metadata": {},
   "outputs": [
    {
     "data": {
      "text/plain": [
       "AdaBoostClassifier(algorithm='SAMME.R', base_estimator=None,\n",
       "          learning_rate=1.0, n_estimators=200, random_state=None)"
      ]
     },
     "execution_count": 71,
     "metadata": {},
     "output_type": "execute_result"
    }
   ],
   "source": [
    "adaMod.fit(X_train, y_train)"
   ]
  },
  {
   "cell_type": "code",
   "execution_count": 72,
   "metadata": {},
   "outputs": [
    {
     "data": {
      "text/plain": [
       "0.9364266666666666"
      ]
     },
     "execution_count": 72,
     "metadata": {},
     "output_type": "execute_result"
    }
   ],
   "source": [
    "adaMod.score(X_test, y_test)"
   ]
  },
  {
   "cell_type": "code",
   "execution_count": 73,
   "metadata": {},
   "outputs": [],
   "source": [
    "test_labels=adaMod.predict_proba(np.array(X_test.values))[:,1]"
   ]
  },
  {
   "cell_type": "code",
   "execution_count": 75,
   "metadata": {},
   "outputs": [
    {
     "data": {
      "text/plain": [
       "0.8633488508081862"
      ]
     },
     "execution_count": 75,
     "metadata": {},
     "output_type": "execute_result"
    }
   ],
   "source": [
    "roc_auc_score (y_test,test_labels , average='macro', sample_weight=None)"
   ]
  },
  {
   "cell_type": "code",
   "execution_count": 76,
   "metadata": {},
   "outputs": [],
   "source": [
    "t_label = adaMod.predict(X_test)"
   ]
  },
  {
   "cell_type": "code",
   "execution_count": 78,
   "metadata": {},
   "outputs": [
    {
     "data": {
      "text/plain": [
       "array([[34563,   396],\n",
       "       [ 1988,   553]], dtype=int64)"
      ]
     },
     "execution_count": 78,
     "metadata": {},
     "output_type": "execute_result"
    }
   ],
   "source": [
    "confusion_matrix(y_test,t_label)"
   ]
  },
  {
   "cell_type": "code",
   "execution_count": null,
   "metadata": {},
   "outputs": [],
   "source": []
  }
 ],
 "metadata": {
  "kernelspec": {
   "display_name": "Python 3",
   "language": "python",
   "name": "python3"
  },
  "language_info": {
   "codemirror_mode": {
    "name": "ipython",
    "version": 3
   },
   "file_extension": ".py",
   "mimetype": "text/x-python",
   "name": "python",
   "nbconvert_exporter": "python",
   "pygments_lexer": "ipython3",
   "version": "3.6.4"
  }
 },
 "nbformat": 4,
 "nbformat_minor": 2
}
