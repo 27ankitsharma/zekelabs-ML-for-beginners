{
 "cells": [
  {
   "cell_type": "code",
   "execution_count": 1,
   "metadata": {
    "collapsed": true
   },
   "outputs": [],
   "source": [
    "import numpy as np"
   ]
  },
  {
   "cell_type": "code",
   "execution_count": 2,
   "metadata": {
    "collapsed": true
   },
   "outputs": [],
   "source": [
    "a = np.arange(10000)\n",
    "b = np.arange(10000)"
   ]
  },
  {
   "cell_type": "code",
   "execution_count": 4,
   "metadata": {},
   "outputs": [
    {
     "name": "stdout",
     "output_type": "stream",
     "text": [
      "18.6 µs ± 781 ns per loop (mean ± std. dev. of 7 runs, 10000 loops each)\n"
     ]
    }
   ],
   "source": [
    "%timeit a + b"
   ]
  },
  {
   "cell_type": "code",
   "execution_count": 5,
   "metadata": {},
   "outputs": [
    {
     "name": "stdout",
     "output_type": "stream",
     "text": [
      "61.7 µs ± 2.21 µs per loop (mean ± std. dev. of 7 runs, 10000 loops each)\n"
     ]
    }
   ],
   "source": [
    "%timeit np.cumsum(a)"
   ]
  },
  {
   "cell_type": "code",
   "execution_count": 3,
   "metadata": {
    "collapsed": true
   },
   "outputs": [],
   "source": [
    "l = range(10000)"
   ]
  },
  {
   "cell_type": "code",
   "execution_count": 4,
   "metadata": {},
   "outputs": [
    {
     "name": "stdout",
     "output_type": "stream",
     "text": [
      "553 µs ± 46.9 µs per loop (mean ± std. dev. of 7 runs, 1000 loops each)\n"
     ]
    }
   ],
   "source": [
    "%timeit sum(l)"
   ]
  },
  {
   "cell_type": "code",
   "execution_count": 6,
   "metadata": {},
   "outputs": [
    {
     "name": "stdout",
     "output_type": "stream",
     "text": [
      "60.3 µs ± 3.04 µs per loop (mean ± std. dev. of 7 runs, 10000 loops each)\n"
     ]
    }
   ],
   "source": [
    "%timeit np.cumsum(a)"
   ]
  },
  {
   "cell_type": "code",
   "execution_count": 7,
   "metadata": {
    "collapsed": true
   },
   "outputs": [],
   "source": [
    "data = np.random.randint(1,10,size=(10,10))"
   ]
  },
  {
   "cell_type": "code",
   "execution_count": 9,
   "metadata": {},
   "outputs": [
    {
     "data": {
      "text/plain": [
       "array([54, 59, 60, 55, 35, 59, 55, 44, 57, 49])"
      ]
     },
     "execution_count": 9,
     "metadata": {},
     "output_type": "execute_result"
    }
   ],
   "source": [
    "np.sum(data,axis=0)"
   ]
  },
  {
   "cell_type": "code",
   "execution_count": 8,
   "metadata": {},
   "outputs": [
    {
     "data": {
      "text/plain": [
       "array([[4, 2, 5, 5, 5, 1, 8, 5, 8, 6],\n",
       "       [1, 2, 3, 6, 1, 2, 2, 7, 7, 2],\n",
       "       [1, 8, 6, 3, 1, 4, 2, 4, 7, 6],\n",
       "       [6, 3, 3, 7, 6, 4, 4, 3, 6, 9],\n",
       "       [8, 9, 7, 7, 7, 6, 8, 9, 4, 2],\n",
       "       [2, 7, 1, 2, 3, 2, 4, 2, 6, 3],\n",
       "       [8, 2, 1, 9, 8, 2, 2, 1, 4, 5],\n",
       "       [2, 6, 1, 2, 8, 4, 4, 2, 4, 4],\n",
       "       [5, 7, 1, 2, 3, 6, 7, 5, 1, 9],\n",
       "       [9, 9, 4, 6, 5, 6, 1, 5, 9, 6]])"
      ]
     },
     "execution_count": 8,
     "metadata": {},
     "output_type": "execute_result"
    }
   ],
   "source": [
    "data"
   ]
  },
  {
   "cell_type": "code",
   "execution_count": 9,
   "metadata": {},
   "outputs": [
    {
     "data": {
      "text/plain": [
       "array([49, 33, 42, 51, 67, 32, 42, 37, 46, 60])"
      ]
     },
     "execution_count": 9,
     "metadata": {},
     "output_type": "execute_result"
    }
   ],
   "source": [
    "np.sum(data,axis=1)"
   ]
  },
  {
   "cell_type": "code",
   "execution_count": 10,
   "metadata": {},
   "outputs": [
    {
     "data": {
      "text/plain": [
       "array([ 4.9,  3.3,  4.2,  5.1,  6.7,  3.2,  4.2,  3.7,  4.6,  6. ])"
      ]
     },
     "execution_count": 10,
     "metadata": {},
     "output_type": "execute_result"
    }
   ],
   "source": [
    "np.mean(data,axis=1)"
   ]
  },
  {
   "cell_type": "code",
   "execution_count": 11,
   "metadata": {},
   "outputs": [
    {
     "data": {
      "text/plain": [
       "array([ 2.11896201,  2.28254244,  2.35796522,  1.92093727,  2.1       ,\n",
       "        1.83303028,  2.95972972,  2.00249844,  2.61533937,  2.40831892])"
      ]
     },
     "execution_count": 11,
     "metadata": {},
     "output_type": "execute_result"
    }
   ],
   "source": [
    "np.std(data,axis=1)"
   ]
  },
  {
   "cell_type": "code",
   "execution_count": 12,
   "metadata": {},
   "outputs": [
    {
     "data": {
      "text/plain": [
       "array([[-0.65364362, -0.41614684,  0.28366219,  0.28366219,  0.28366219,\n",
       "         0.54030231, -0.14550003,  0.28366219, -0.14550003,  0.96017029],\n",
       "       [ 0.54030231, -0.41614684, -0.9899925 ,  0.96017029,  0.54030231,\n",
       "        -0.41614684, -0.41614684,  0.75390225,  0.75390225, -0.41614684],\n",
       "       [ 0.54030231, -0.14550003,  0.96017029, -0.9899925 ,  0.54030231,\n",
       "        -0.65364362, -0.41614684, -0.65364362,  0.75390225,  0.96017029],\n",
       "       [ 0.96017029, -0.9899925 , -0.9899925 ,  0.75390225,  0.96017029,\n",
       "        -0.65364362, -0.65364362, -0.9899925 ,  0.96017029, -0.91113026],\n",
       "       [-0.14550003, -0.91113026,  0.75390225,  0.75390225,  0.75390225,\n",
       "         0.96017029, -0.14550003, -0.91113026, -0.65364362, -0.41614684],\n",
       "       [-0.41614684,  0.75390225,  0.54030231, -0.41614684, -0.9899925 ,\n",
       "        -0.41614684, -0.65364362, -0.41614684,  0.96017029, -0.9899925 ],\n",
       "       [-0.14550003, -0.41614684,  0.54030231, -0.91113026, -0.14550003,\n",
       "        -0.41614684, -0.41614684,  0.54030231, -0.65364362,  0.28366219],\n",
       "       [-0.41614684,  0.96017029,  0.54030231, -0.41614684, -0.14550003,\n",
       "        -0.65364362, -0.65364362, -0.41614684, -0.65364362, -0.65364362],\n",
       "       [ 0.28366219,  0.75390225,  0.54030231, -0.41614684, -0.9899925 ,\n",
       "         0.96017029,  0.75390225,  0.28366219,  0.54030231, -0.91113026],\n",
       "       [-0.91113026, -0.91113026, -0.65364362,  0.96017029,  0.28366219,\n",
       "         0.96017029,  0.54030231,  0.28366219, -0.91113026,  0.96017029]])"
      ]
     },
     "execution_count": 12,
     "metadata": {},
     "output_type": "execute_result"
    }
   ],
   "source": [
    "np.cos(data)"
   ]
  },
  {
   "cell_type": "code",
   "execution_count": 16,
   "metadata": {},
   "outputs": [
    {
     "data": {
      "text/plain": [
       "array([9, 9, 9, 8, 9, 9, 9, 9, 9, 8])"
      ]
     },
     "execution_count": 16,
     "metadata": {},
     "output_type": "execute_result"
    }
   ],
   "source": [
    "np.max(data,axis=1)"
   ]
  },
  {
   "cell_type": "code",
   "execution_count": 13,
   "metadata": {},
   "outputs": [
    {
     "data": {
      "text/plain": [
       "array([6, 7, 1, 9, 1, 1, 3, 4, 9, 0], dtype=int64)"
      ]
     },
     "execution_count": 13,
     "metadata": {},
     "output_type": "execute_result"
    }
   ],
   "source": [
    "np.argmax(data,axis=1)"
   ]
  },
  {
   "cell_type": "code",
   "execution_count": 19,
   "metadata": {},
   "outputs": [
    {
     "data": {
      "text/plain": [
       "array([[6, 4, 1, 1, 3, 4, 5, 3, 5, 9],\n",
       "       [5, 9, 4, 8, 6, 9, 3, 8, 3, 6],\n",
       "       [7, 9, 9, 2, 4, 6, 5, 9, 8, 2],\n",
       "       [5, 2, 5, 2, 5, 5, 2, 1, 4, 8],\n",
       "       [9, 7, 8, 9, 1, 2, 8, 1, 8, 2],\n",
       "       [8, 7, 8, 9, 7, 6, 9, 3, 5, 7],\n",
       "       [1, 9, 6, 9, 1, 7, 6, 8, 5, 2],\n",
       "       [5, 2, 3, 2, 1, 4, 8, 2, 9, 2],\n",
       "       [1, 9, 9, 6, 1, 8, 7, 6, 5, 9],\n",
       "       [7, 1, 7, 7, 6, 8, 2, 3, 5, 2]])"
      ]
     },
     "execution_count": 19,
     "metadata": {},
     "output_type": "execute_result"
    }
   ],
   "source": [
    "data"
   ]
  },
  {
   "cell_type": "code",
   "execution_count": 14,
   "metadata": {},
   "outputs": [
    {
     "data": {
      "text/plain": [
       "array([[5, 1, 0, 2, 3, 4, 7, 9, 6, 8],\n",
       "       [0, 4, 1, 5, 6, 9, 2, 3, 7, 8],\n",
       "       [0, 4, 6, 3, 5, 7, 2, 9, 8, 1],\n",
       "       [1, 2, 7, 5, 6, 0, 4, 8, 3, 9],\n",
       "       [9, 8, 5, 2, 3, 4, 0, 6, 1, 7],\n",
       "       [2, 0, 3, 5, 7, 4, 9, 6, 8, 1],\n",
       "       [2, 7, 1, 5, 6, 8, 9, 0, 4, 3],\n",
       "       [2, 0, 3, 7, 5, 6, 8, 9, 1, 4],\n",
       "       [2, 8, 3, 4, 0, 7, 5, 1, 6, 9],\n",
       "       [6, 2, 4, 7, 3, 5, 9, 0, 1, 8]], dtype=int64)"
      ]
     },
     "execution_count": 14,
     "metadata": {},
     "output_type": "execute_result"
    }
   ],
   "source": [
    "np.argsort(data,axis=1)"
   ]
  },
  {
   "cell_type": "code",
   "execution_count": 21,
   "metadata": {},
   "outputs": [
    {
     "name": "stdout",
     "output_type": "stream",
     "text": [
      "Help on function argwhere in module numpy.core.numeric:\n",
      "\n",
      "argwhere(a)\n",
      "    Find the indices of array elements that are non-zero, grouped by element.\n",
      "    \n",
      "    Parameters\n",
      "    ----------\n",
      "    a : array_like\n",
      "        Input data.\n",
      "    \n",
      "    Returns\n",
      "    -------\n",
      "    index_array : ndarray\n",
      "        Indices of elements that are non-zero. Indices are grouped by element.\n",
      "    \n",
      "    See Also\n",
      "    --------\n",
      "    where, nonzero\n",
      "    \n",
      "    Notes\n",
      "    -----\n",
      "    ``np.argwhere(a)`` is the same as ``np.transpose(np.nonzero(a))``.\n",
      "    \n",
      "    The output of ``argwhere`` is not suitable for indexing arrays.\n",
      "    For this purpose use ``where(a)`` instead.\n",
      "    \n",
      "    Examples\n",
      "    --------\n",
      "    >>> x = np.arange(6).reshape(2,3)\n",
      "    >>> x\n",
      "    array([[0, 1, 2],\n",
      "           [3, 4, 5]])\n",
      "    >>> np.argwhere(x>1)\n",
      "    array([[0, 2],\n",
      "           [1, 0],\n",
      "           [1, 1],\n",
      "           [1, 2]])\n",
      "\n"
     ]
    }
   ],
   "source": [
    "help(np.argwhere)"
   ]
  },
  {
   "cell_type": "code",
   "execution_count": 25,
   "metadata": {},
   "outputs": [
    {
     "data": {
      "text/plain": [
       "array([[0, 0],\n",
       "       [1, 4],\n",
       "       [1, 9],\n",
       "       [2, 5],\n",
       "       [5, 5],\n",
       "       [6, 2],\n",
       "       [6, 6],\n",
       "       [8, 3],\n",
       "       [8, 7],\n",
       "       [9, 4]], dtype=int64)"
      ]
     },
     "execution_count": 25,
     "metadata": {},
     "output_type": "execute_result"
    }
   ],
   "source": [
    "np.argwhere((data > 5) & ( data < 7))"
   ]
  },
  {
   "cell_type": "code",
   "execution_count": 24,
   "metadata": {},
   "outputs": [
    {
     "name": "stdout",
     "output_type": "stream",
     "text": [
      "Help on function argsort in module numpy.core.fromnumeric:\n",
      "\n",
      "argsort(a, axis=-1, kind='quicksort', order=None)\n",
      "    Returns the indices that would sort an array.\n",
      "    \n",
      "    Perform an indirect sort along the given axis using the algorithm specified\n",
      "    by the `kind` keyword. It returns an array of indices of the same shape as\n",
      "    `a` that index data along the given axis in sorted order.\n",
      "    \n",
      "    Parameters\n",
      "    ----------\n",
      "    a : array_like\n",
      "        Array to sort.\n",
      "    axis : int or None, optional\n",
      "        Axis along which to sort.  The default is -1 (the last axis). If None,\n",
      "        the flattened array is used.\n",
      "    kind : {'quicksort', 'mergesort', 'heapsort'}, optional\n",
      "        Sorting algorithm.\n",
      "    order : str or list of str, optional\n",
      "        When `a` is an array with fields defined, this argument specifies\n",
      "        which fields to compare first, second, etc.  A single field can\n",
      "        be specified as a string, and not all fields need be specified,\n",
      "        but unspecified fields will still be used, in the order in which\n",
      "        they come up in the dtype, to break ties.\n",
      "    \n",
      "    Returns\n",
      "    -------\n",
      "    index_array : ndarray, int\n",
      "        Array of indices that sort `a` along the specified axis.\n",
      "        If `a` is one-dimensional, ``a[index_array]`` yields a sorted `a`.\n",
      "    \n",
      "    See Also\n",
      "    --------\n",
      "    sort : Describes sorting algorithms used.\n",
      "    lexsort : Indirect stable sort with multiple keys.\n",
      "    ndarray.sort : Inplace sort.\n",
      "    argpartition : Indirect partial sort.\n",
      "    \n",
      "    Notes\n",
      "    -----\n",
      "    See `sort` for notes on the different sorting algorithms.\n",
      "    \n",
      "    As of NumPy 1.4.0 `argsort` works with real/complex arrays containing\n",
      "    nan values. The enhanced sort order is documented in `sort`.\n",
      "    \n",
      "    Examples\n",
      "    --------\n",
      "    One dimensional array:\n",
      "    \n",
      "    >>> x = np.array([3, 1, 2])\n",
      "    >>> np.argsort(x)\n",
      "    array([1, 2, 0])\n",
      "    \n",
      "    Two-dimensional array:\n",
      "    \n",
      "    >>> x = np.array([[0, 3], [2, 2]])\n",
      "    >>> x\n",
      "    array([[0, 3],\n",
      "           [2, 2]])\n",
      "    \n",
      "    >>> np.argsort(x, axis=0)\n",
      "    array([[0, 1],\n",
      "           [1, 0]])\n",
      "    \n",
      "    >>> np.argsort(x, axis=1)\n",
      "    array([[0, 1],\n",
      "           [0, 1]])\n",
      "    \n",
      "    Sorting with keys:\n",
      "    \n",
      "    >>> x = np.array([(1, 0), (0, 1)], dtype=[('x', '<i4'), ('y', '<i4')])\n",
      "    >>> x\n",
      "    array([(1, 0), (0, 1)],\n",
      "          dtype=[('x', '<i4'), ('y', '<i4')])\n",
      "    \n",
      "    >>> np.argsort(x, order=('x','y'))\n",
      "    array([1, 0])\n",
      "    \n",
      "    >>> np.argsort(x, order=('y','x'))\n",
      "    array([0, 1])\n",
      "\n"
     ]
    }
   ],
   "source": [
    "help(np.argsort)"
   ]
  },
  {
   "cell_type": "code",
   "execution_count": null,
   "metadata": {
    "collapsed": true
   },
   "outputs": [],
   "source": []
  }
 ],
 "metadata": {
  "kernelspec": {
   "display_name": "Python 3",
   "language": "python",
   "name": "python3"
  },
  "language_info": {
   "codemirror_mode": {
    "name": "ipython",
    "version": 3
   },
   "file_extension": ".py",
   "mimetype": "text/x-python",
   "name": "python",
   "nbconvert_exporter": "python",
   "pygments_lexer": "ipython3",
   "version": "3.5.4"
  }
 },
 "nbformat": 4,
 "nbformat_minor": 2
}
