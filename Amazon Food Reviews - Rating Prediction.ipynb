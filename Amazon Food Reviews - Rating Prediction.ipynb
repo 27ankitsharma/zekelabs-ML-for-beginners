{
 "cells": [
  {
   "cell_type": "code",
   "execution_count": 1,
   "metadata": {
    "collapsed": true
   },
   "outputs": [],
   "source": [
    "import pandas as pd"
   ]
  },
  {
   "cell_type": "code",
   "execution_count": 11,
   "metadata": {
    "collapsed": true
   },
   "outputs": [],
   "source": [
    "review_data = pd.read_csv('data/Reviews.csv')"
   ]
  },
  {
   "cell_type": "code",
   "execution_count": 12,
   "metadata": {},
   "outputs": [
    {
     "data": {
      "text/plain": [
       "Id                        568454\n",
       "ProductId                 568454\n",
       "UserId                    568454\n",
       "ProfileName               568438\n",
       "HelpfulnessNumerator      568454\n",
       "HelpfulnessDenominator    568454\n",
       "Score                     568454\n",
       "Time                      568454\n",
       "Summary                   568428\n",
       "Text                      568454\n",
       "dtype: int64"
      ]
     },
     "execution_count": 12,
     "metadata": {},
     "output_type": "execute_result"
    }
   ],
   "source": [
    "review_data.count()"
   ]
  },
  {
   "cell_type": "code",
   "execution_count": 13,
   "metadata": {
    "collapsed": true
   },
   "outputs": [],
   "source": [
    "review_data = review_data.sample(n=10000)"
   ]
  },
  {
   "cell_type": "code",
   "execution_count": 14,
   "metadata": {},
   "outputs": [
    {
     "data": {
      "text/plain": [
       "Id                        10000\n",
       "ProductId                 10000\n",
       "UserId                    10000\n",
       "ProfileName               10000\n",
       "HelpfulnessNumerator      10000\n",
       "HelpfulnessDenominator    10000\n",
       "Score                     10000\n",
       "Time                      10000\n",
       "Summary                    9999\n",
       "Text                      10000\n",
       "dtype: int64"
      ]
     },
     "execution_count": 14,
     "metadata": {},
     "output_type": "execute_result"
    }
   ],
   "source": [
    "review_data.count()"
   ]
  },
  {
   "cell_type": "code",
   "execution_count": 15,
   "metadata": {},
   "outputs": [
    {
     "data": {
      "text/html": [
       "<div>\n",
       "<style>\n",
       "    .dataframe thead tr:only-child th {\n",
       "        text-align: right;\n",
       "    }\n",
       "\n",
       "    .dataframe thead th {\n",
       "        text-align: left;\n",
       "    }\n",
       "\n",
       "    .dataframe tbody tr th {\n",
       "        vertical-align: top;\n",
       "    }\n",
       "</style>\n",
       "<table border=\"1\" class=\"dataframe\">\n",
       "  <thead>\n",
       "    <tr style=\"text-align: right;\">\n",
       "      <th></th>\n",
       "      <th>Id</th>\n",
       "      <th>ProductId</th>\n",
       "      <th>UserId</th>\n",
       "      <th>ProfileName</th>\n",
       "      <th>HelpfulnessNumerator</th>\n",
       "      <th>HelpfulnessDenominator</th>\n",
       "      <th>Score</th>\n",
       "      <th>Time</th>\n",
       "      <th>Summary</th>\n",
       "      <th>Text</th>\n",
       "    </tr>\n",
       "  </thead>\n",
       "  <tbody>\n",
       "    <tr>\n",
       "      <th>275349</th>\n",
       "      <td>275350</td>\n",
       "      <td>B005VOONI0</td>\n",
       "      <td>ADS5APY1NKTL4</td>\n",
       "      <td>D. Pawl \"Dani\"</td>\n",
       "      <td>1</td>\n",
       "      <td>2</td>\n",
       "      <td>5</td>\n",
       "      <td>1334448000</td>\n",
       "      <td>Nice and strong....</td>\n",
       "      <td>This coffee is like none I have ever had. For ...</td>\n",
       "    </tr>\n",
       "    <tr>\n",
       "      <th>446008</th>\n",
       "      <td>446009</td>\n",
       "      <td>B0029NIMYW</td>\n",
       "      <td>A23CIZQS0Q3K93</td>\n",
       "      <td>Lee Schuler</td>\n",
       "      <td>0</td>\n",
       "      <td>0</td>\n",
       "      <td>5</td>\n",
       "      <td>1345593600</td>\n",
       "      <td>Spoiled chihuahua loves it!!!</td>\n",
       "      <td>I started feeding this when my vet told me to ...</td>\n",
       "    </tr>\n",
       "    <tr>\n",
       "      <th>192432</th>\n",
       "      <td>192433</td>\n",
       "      <td>B006GA666U</td>\n",
       "      <td>A1NAM2T05NTLVX</td>\n",
       "      <td>mac</td>\n",
       "      <td>0</td>\n",
       "      <td>0</td>\n",
       "      <td>5</td>\n",
       "      <td>1346716800</td>\n",
       "      <td>big easy is great</td>\n",
       "      <td>as good a strong coffee as any other quality b...</td>\n",
       "    </tr>\n",
       "    <tr>\n",
       "      <th>390000</th>\n",
       "      <td>390001</td>\n",
       "      <td>B0084B8Z90</td>\n",
       "      <td>A1A97CBY4L4R8I</td>\n",
       "      <td>Quetzal09</td>\n",
       "      <td>0</td>\n",
       "      <td>0</td>\n",
       "      <td>5</td>\n",
       "      <td>1344729600</td>\n",
       "      <td>Great Taste!!!</td>\n",
       "      <td>This hot sauce taste just great on anything, i...</td>\n",
       "    </tr>\n",
       "    <tr>\n",
       "      <th>236220</th>\n",
       "      <td>236221</td>\n",
       "      <td>B0018OJJZO</td>\n",
       "      <td>ATVSO72U28NQX</td>\n",
       "      <td>M. Papadopoulos \"Mihalis the Greek\"</td>\n",
       "      <td>1</td>\n",
       "      <td>1</td>\n",
       "      <td>5</td>\n",
       "      <td>1318118400</td>\n",
       "      <td>Absolutely delicious and addicting!</td>\n",
       "      <td>These small crackers are baked so they are not...</td>\n",
       "    </tr>\n",
       "  </tbody>\n",
       "</table>\n",
       "</div>"
      ],
      "text/plain": [
       "            Id   ProductId          UserId  \\\n",
       "275349  275350  B005VOONI0   ADS5APY1NKTL4   \n",
       "446008  446009  B0029NIMYW  A23CIZQS0Q3K93   \n",
       "192432  192433  B006GA666U  A1NAM2T05NTLVX   \n",
       "390000  390001  B0084B8Z90  A1A97CBY4L4R8I   \n",
       "236220  236221  B0018OJJZO   ATVSO72U28NQX   \n",
       "\n",
       "                                ProfileName  HelpfulnessNumerator  \\\n",
       "275349                       D. Pawl \"Dani\"                     1   \n",
       "446008                          Lee Schuler                     0   \n",
       "192432                                  mac                     0   \n",
       "390000                            Quetzal09                     0   \n",
       "236220  M. Papadopoulos \"Mihalis the Greek\"                     1   \n",
       "\n",
       "        HelpfulnessDenominator  Score        Time  \\\n",
       "275349                       2      5  1334448000   \n",
       "446008                       0      5  1345593600   \n",
       "192432                       0      5  1346716800   \n",
       "390000                       0      5  1344729600   \n",
       "236220                       1      5  1318118400   \n",
       "\n",
       "                                    Summary  \\\n",
       "275349                  Nice and strong....   \n",
       "446008        Spoiled chihuahua loves it!!!   \n",
       "192432                    big easy is great   \n",
       "390000                       Great Taste!!!   \n",
       "236220  Absolutely delicious and addicting!   \n",
       "\n",
       "                                                     Text  \n",
       "275349  This coffee is like none I have ever had. For ...  \n",
       "446008  I started feeding this when my vet told me to ...  \n",
       "192432  as good a strong coffee as any other quality b...  \n",
       "390000  This hot sauce taste just great on anything, i...  \n",
       "236220  These small crackers are baked so they are not...  "
      ]
     },
     "execution_count": 15,
     "metadata": {},
     "output_type": "execute_result"
    }
   ],
   "source": [
    "review_data.head()"
   ]
  },
  {
   "cell_type": "code",
   "execution_count": 16,
   "metadata": {
    "collapsed": true
   },
   "outputs": [],
   "source": [
    "review_data = review_data[['Text','Summary','Score']]"
   ]
  },
  {
   "cell_type": "markdown",
   "metadata": {},
   "source": [
    "#### Remove all rows with score 3(neutral comments)"
   ]
  },
  {
   "cell_type": "code",
   "execution_count": 17,
   "metadata": {
    "collapsed": true
   },
   "outputs": [],
   "source": [
    "review_data = review_data[review_data.Score != 3]"
   ]
  },
  {
   "cell_type": "code",
   "execution_count": 31,
   "metadata": {},
   "outputs": [
    {
     "data": {
      "text/plain": [
       "Text       9267\n",
       "Summary    9267\n",
       "Score      9267\n",
       "dtype: int64"
      ]
     },
     "execution_count": 31,
     "metadata": {},
     "output_type": "execute_result"
    }
   ],
   "source": [
    "review_data.dropna(inplace=True)\n",
    "review_data.count()"
   ]
  },
  {
   "cell_type": "code",
   "execution_count": 20,
   "metadata": {
    "collapsed": true
   },
   "outputs": [],
   "source": [
    "from sklearn.feature_extraction.text import CountVectorizer,TfidfTransformer"
   ]
  },
  {
   "cell_type": "code",
   "execution_count": 25,
   "metadata": {
    "collapsed": true
   },
   "outputs": [],
   "source": [
    "from sklearn_pandas import DataFrameMapper\n",
    "from sklearn.naive_bayes import MultinomialNB\n",
    "from sklearn.feature_selection import SelectKBest"
   ]
  },
  {
   "cell_type": "code",
   "execution_count": 21,
   "metadata": {
    "collapsed": true
   },
   "outputs": [],
   "source": [
    "mapper = DataFrameMapper([\n",
    "    ('Text',[CountVectorizer(stop_words='english'),TfidfTransformer()]),\n",
    "    ('Summary',[CountVectorizer(stop_words='english'),TfidfTransformer()])\n",
    "])"
   ]
  },
  {
   "cell_type": "code",
   "execution_count": 22,
   "metadata": {
    "collapsed": true
   },
   "outputs": [],
   "source": [
    "from sklearn.pipeline import Pipeline"
   ]
  },
  {
   "cell_type": "code",
   "execution_count": 28,
   "metadata": {},
   "outputs": [],
   "source": [
    "mn_pipeline = Pipeline([\n",
    "    ('mapper',mapper),\n",
    "    ('select',SelectKBest(k=1000)),\n",
    "    ('clf',MultinomialNB())\n",
    "])"
   ]
  },
  {
   "cell_type": "code",
   "execution_count": 32,
   "metadata": {},
   "outputs": [
    {
     "data": {
      "text/plain": [
       "Pipeline(memory=None,\n",
       "     steps=[('mapper', DataFrameMapper(default=False, df_out=False,\n",
       "        features=[('Text', [CountVectorizer(analyzer='word', binary=False, decode_error='strict',\n",
       "        dtype=<class 'numpy.int64'>, encoding='utf-8', input='content',\n",
       "        lowercase=True, max_df=1.0, max_features=None, min_df=1,\n",
       "  ...assif at 0x000002616342AF28>)), ('clf', MultinomialNB(alpha=1.0, class_prior=None, fit_prior=True))])"
      ]
     },
     "execution_count": 32,
     "metadata": {},
     "output_type": "execute_result"
    }
   ],
   "source": [
    "mn_pipeline.fit(review_data[['Text','Summary']], review_data.Score)"
   ]
  },
  {
   "cell_type": "code",
   "execution_count": 33,
   "metadata": {},
   "outputs": [
    {
     "data": {
      "text/plain": [
       "0.74576454084385457"
      ]
     },
     "execution_count": 33,
     "metadata": {},
     "output_type": "execute_result"
    }
   ],
   "source": [
    "mn_pipeline.score(review_data[['Text','Summary']], review_data.Score)"
   ]
  },
  {
   "cell_type": "code",
   "execution_count": 35,
   "metadata": {},
   "outputs": [
    {
     "data": {
      "text/plain": [
       "array([5, 5], dtype=int64)"
      ]
     },
     "execution_count": 35,
     "metadata": {},
     "output_type": "execute_result"
    }
   ],
   "source": [
    "mn_pipeline.predict(review_data[['Text','Summary']][:2])"
   ]
  },
  {
   "cell_type": "code",
   "execution_count": 36,
   "metadata": {},
   "outputs": [
    {
     "data": {
      "text/html": [
       "<div>\n",
       "<style>\n",
       "    .dataframe thead tr:only-child th {\n",
       "        text-align: right;\n",
       "    }\n",
       "\n",
       "    .dataframe thead th {\n",
       "        text-align: left;\n",
       "    }\n",
       "\n",
       "    .dataframe tbody tr th {\n",
       "        vertical-align: top;\n",
       "    }\n",
       "</style>\n",
       "<table border=\"1\" class=\"dataframe\">\n",
       "  <thead>\n",
       "    <tr style=\"text-align: right;\">\n",
       "      <th></th>\n",
       "      <th>Text</th>\n",
       "      <th>Summary</th>\n",
       "    </tr>\n",
       "    <tr>\n",
       "      <th>Score</th>\n",
       "      <th></th>\n",
       "      <th></th>\n",
       "    </tr>\n",
       "  </thead>\n",
       "  <tbody>\n",
       "    <tr>\n",
       "      <th>1</th>\n",
       "      <td>877</td>\n",
       "      <td>877</td>\n",
       "    </tr>\n",
       "    <tr>\n",
       "      <th>2</th>\n",
       "      <td>520</td>\n",
       "      <td>520</td>\n",
       "    </tr>\n",
       "    <tr>\n",
       "      <th>4</th>\n",
       "      <td>1396</td>\n",
       "      <td>1396</td>\n",
       "    </tr>\n",
       "    <tr>\n",
       "      <th>5</th>\n",
       "      <td>6474</td>\n",
       "      <td>6474</td>\n",
       "    </tr>\n",
       "  </tbody>\n",
       "</table>\n",
       "</div>"
      ],
      "text/plain": [
       "       Text  Summary\n",
       "Score               \n",
       "1       877      877\n",
       "2       520      520\n",
       "4      1396     1396\n",
       "5      6474     6474"
      ]
     },
     "execution_count": 36,
     "metadata": {},
     "output_type": "execute_result"
    }
   ],
   "source": [
    "review_data.groupby('Score').count()"
   ]
  },
  {
   "cell_type": "code",
   "execution_count": 41,
   "metadata": {
    "collapsed": true
   },
   "outputs": [],
   "source": [
    "class FoodClassifier:\n",
    "    def __init__(self,classifiers):\n",
    "        self.classifiers = classifiers\n",
    "        \n",
    "    def create_pipelines(self):\n",
    "        self.pipelines = []\n",
    "        for classifier in self.classifiers:\n",
    "            self.pipelines.append(Pipeline([\n",
    "                                  ('mapper',mapper),\n",
    "                                  ('select',SelectKBest(k=1000)),\n",
    "                                  ('clf',classifier)]))\n",
    "            \n",
    "    def train(self,trainX,trainY):\n",
    "        for pipeline in self.pipelines:\n",
    "            pipeline.fit(trainX,trainY)\n",
    "            \n",
    "    def score(self,testX,testY):\n",
    "        self.score = []\n",
    "        for pipeline in self.pipelines:\n",
    "            self.score.append(pipeline.score(testX,testY))\n",
    "    \n",
    "        "
   ]
  },
  {
   "cell_type": "code",
   "execution_count": 42,
   "metadata": {
    "collapsed": true
   },
   "outputs": [],
   "source": [
    "from sklearn.linear_model import LogisticRegression\n",
    "from sklearn.ensemble import RandomForestClassifier"
   ]
  },
  {
   "cell_type": "code",
   "execution_count": 43,
   "metadata": {
    "collapsed": true
   },
   "outputs": [],
   "source": [
    "clf = FoodClassifier([LogisticRegression(), RandomForestClassifier(), MultinomialNB()])"
   ]
  },
  {
   "cell_type": "code",
   "execution_count": 44,
   "metadata": {
    "collapsed": true
   },
   "outputs": [],
   "source": [
    "clf.create_pipelines()"
   ]
  },
  {
   "cell_type": "code",
   "execution_count": 45,
   "metadata": {
    "collapsed": true
   },
   "outputs": [],
   "source": [
    "clf.train(review_data[['Text','Summary']], review_data.Score)"
   ]
  },
  {
   "cell_type": "code",
   "execution_count": 46,
   "metadata": {
    "collapsed": true
   },
   "outputs": [],
   "source": [
    "clf.score(review_data[['Text','Summary']], review_data.Score)"
   ]
  },
  {
   "cell_type": "code",
   "execution_count": null,
   "metadata": {
    "collapsed": true
   },
   "outputs": [],
   "source": []
  }
 ],
 "metadata": {
  "kernelspec": {
   "display_name": "Python 3",
   "language": "python",
   "name": "python3"
  },
  "language_info": {
   "codemirror_mode": {
    "name": "ipython",
    "version": 3
   },
   "file_extension": ".py",
   "mimetype": "text/x-python",
   "name": "python",
   "nbconvert_exporter": "python",
   "pygments_lexer": "ipython3",
   "version": "3.5.4"
  }
 },
 "nbformat": 4,
 "nbformat_minor": 2
}
