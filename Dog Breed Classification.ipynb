{
 "cells": [
  {
   "cell_type": "code",
   "execution_count": 1,
   "metadata": {
    "collapsed": true
   },
   "outputs": [],
   "source": [
    "import pandas as pd"
   ]
  },
  {
   "cell_type": "code",
   "execution_count": 2,
   "metadata": {
    "collapsed": true
   },
   "outputs": [],
   "source": [
    "import os"
   ]
  },
  {
   "cell_type": "code",
   "execution_count": 3,
   "metadata": {
    "collapsed": true
   },
   "outputs": [],
   "source": [
    "images = os.listdir('data/dog-train/')\n",
    "os.chdir('data/dog-train/')"
   ]
  },
  {
   "cell_type": "code",
   "execution_count": 4,
   "metadata": {
    "collapsed": true
   },
   "outputs": [],
   "source": [
    "from skimage.transform import resize\n",
    "from skimage.io import imsave, imread\n"
   ]
  },
  {
   "cell_type": "code",
   "execution_count": 5,
   "metadata": {},
   "outputs": [
    {
     "name": "stderr",
     "output_type": "stream",
     "text": [
      "C:\\Users\\ZekeLabs\\Anaconda3-N\\lib\\site-packages\\skimage\\transform\\_warps.py:84: UserWarning: The default mode, 'constant', will be changed to 'reflect' in skimage 0.15.\n",
      "  warn(\"The default mode, 'constant', will be changed to 'reflect' in \"\n",
      "C:\\Users\\ZekeLabs\\Anaconda3-N\\lib\\site-packages\\skimage\\util\\dtype.py:122: UserWarning: Possible precision loss when converting from float64 to uint8\n",
      "  .format(dtypeobj_in, dtypeobj_out))\n"
     ]
    }
   ],
   "source": [
    "for img_name in images:\n",
    "    img = imread(img_name)\n",
    "    img_new = resize(img, (128,128))\n",
    "    imsave('n_' +img_name, img_new)"
   ]
  },
  {
   "cell_type": "code",
   "execution_count": 6,
   "metadata": {
    "collapsed": true
   },
   "outputs": [],
   "source": [
    "imgs = os.listdir('.')"
   ]
  },
  {
   "cell_type": "code",
   "execution_count": 40,
   "metadata": {},
   "outputs": [],
   "source": [
    "\n",
    "img_ids = []\n",
    "img_v =[]\n",
    "for img in imgs:\n",
    "    v = imread(img)\n",
    "    img_id = img.replace('n_','').replace('.jpg','')\n",
    "    img_ids.append(img_id)\n",
    "    img_v.append(v.ravel())"
   ]
  },
  {
   "cell_type": "code",
   "execution_count": 8,
   "metadata": {
    "collapsed": true
   },
   "outputs": [],
   "source": [
    "df_img = pd.DataFrame({'id':img_ids,'v':img_v})"
   ]
  },
  {
   "cell_type": "code",
   "execution_count": 9,
   "metadata": {
    "collapsed": true
   },
   "outputs": [],
   "source": [
    "df_label = pd.read_csv(r'D:/machine-learning-for-beginners/data/train/labels.csv')"
   ]
  },
  {
   "cell_type": "code",
   "execution_count": 10,
   "metadata": {
    "collapsed": true
   },
   "outputs": [],
   "source": [
    "final_df = pd.merge(left=df_img, right=df_label)"
   ]
  },
  {
   "cell_type": "code",
   "execution_count": 11,
   "metadata": {
    "collapsed": true
   },
   "outputs": [],
   "source": [
    "final_df.drop('id', axis=1, inplace=True)"
   ]
  },
  {
   "cell_type": "code",
   "execution_count": 12,
   "metadata": {
    "collapsed": true
   },
   "outputs": [],
   "source": [
    "data = final_df.v"
   ]
  },
  {
   "cell_type": "code",
   "execution_count": 26,
   "metadata": {},
   "outputs": [],
   "source": []
  },
  {
   "cell_type": "code",
   "execution_count": 19,
   "metadata": {},
   "outputs": [],
   "source": []
  },
  {
   "cell_type": "code",
   "execution_count": null,
   "metadata": {},
   "outputs": [],
   "source": []
  },
  {
   "cell_type": "code",
   "execution_count": null,
   "metadata": {},
   "outputs": [],
   "source": []
  },
  {
   "cell_type": "code",
   "execution_count": null,
   "metadata": {},
   "outputs": [],
   "source": []
  },
  {
   "cell_type": "code",
   "execution_count": null,
   "metadata": {
    "collapsed": true
   },
   "outputs": [],
   "source": []
  },
  {
   "cell_type": "code",
   "execution_count": null,
   "metadata": {},
   "outputs": [],
   "source": []
  },
  {
   "cell_type": "code",
   "execution_count": null,
   "metadata": {},
   "outputs": [],
   "source": []
  },
  {
   "cell_type": "code",
   "execution_count": null,
   "metadata": {},
   "outputs": [],
   "source": []
  },
  {
   "cell_type": "code",
   "execution_count": null,
   "metadata": {},
   "outputs": [],
   "source": []
  },
  {
   "cell_type": "code",
   "execution_count": 109,
   "metadata": {},
   "outputs": [
    {
     "data": {
      "text/plain": [
       "0     [173, 122, 93, 136, 89, 45, 211, 171, 109, 158...\n",
       "1     [173, 122, 93, 136, 89, 45, 211, 171, 109, 158...\n",
       "2     [0, 4, 0, 6, 17, 11, 8, 19, 13, 10, 19, 14, 19...\n",
       "3     [0, 4, 0, 6, 17, 11, 8, 19, 13, 10, 19, 14, 19...\n",
       "4     [130, 65, 69, 177, 116, 121, 147, 92, 95, 172,...\n",
       "5     [130, 65, 69, 177, 116, 121, 147, 92, 95, 172,...\n",
       "6     [74, 83, 78, 74, 83, 78, 75, 84, 79, 76, 85, 8...\n",
       "7     [74, 83, 78, 74, 83, 78, 75, 84, 79, 76, 85, 8...\n",
       "8     [162, 176, 163, 212, 226, 213, 225, 238, 228, ...\n",
       "9     [161, 175, 162, 212, 226, 213, 226, 239, 229, ...\n",
       "10    [219, 108, 114, 229, 118, 124, 220, 113, 119, ...\n",
       "11    [219, 108, 114, 229, 118, 124, 220, 113, 119, ...\n",
       "12    [13, 25, 11, 0, 11, 0, 8, 19, 5, 17, 25, 14, 0...\n",
       "13    [13, 25, 11, 0, 11, 0, 8, 19, 5, 17, 25, 14, 0...\n",
       "14    [176, 118, 81, 166, 110, 73, 174, 120, 82, 192...\n",
       "15    [176, 118, 81, 166, 110, 73, 174, 120, 82, 191...\n",
       "16    [90, 123, 42, 89, 122, 41, 88, 123, 43, 88, 12...\n",
       "17    [90, 123, 42, 89, 122, 41, 88, 123, 43, 88, 12...\n",
       "18    [13, 15, 12, 10, 12, 9, 6, 8, 5, 2, 4, 1, 2, 4...\n",
       "19    [12, 14, 11, 9, 11, 8, 5, 7, 4, 1, 3, 0, 1, 3,...\n",
       "20    [189, 189, 189, 204, 204, 202, 231, 231, 229, ...\n",
       "21    [189, 189, 189, 204, 204, 202, 231, 231, 229, ...\n",
       "22    [36, 37, 41, 28, 29, 33, 21, 22, 26, 32, 33, 3...\n",
       "23    [36, 37, 41, 28, 29, 33, 21, 22, 26, 32, 33, 3...\n",
       "Name: v, dtype: object"
      ]
     },
     "execution_count": 109,
     "metadata": {},
     "output_type": "execute_result"
    }
   ],
   "source": [
    "data"
   ]
  },
  {
   "cell_type": "code",
   "execution_count": 104,
   "metadata": {},
   "outputs": [],
   "source": [
    "d = data.as_matrix()\n",
    "n = data[0]"
   ]
  },
  {
   "cell_type": "code",
   "execution_count": 105,
   "metadata": {},
   "outputs": [],
   "source": [
    "for e in d[1]:\n",
    "    n = np.hstack((n,e))"
   ]
  },
  {
   "cell_type": "code",
   "execution_count": 110,
   "metadata": {},
   "outputs": [
    {
     "data": {
      "text/plain": [
       "array([array([173, 122,  93, ..., 181, 138,  93], dtype=uint8),\n",
       "       array([173, 122,  93, ..., 181, 138,  93], dtype=uint8),\n",
       "       array([ 0,  4,  0, ..., 10, 32, 20], dtype=uint8),\n",
       "       array([ 0,  4,  0, ..., 10, 32, 20], dtype=uint8),\n",
       "       array([130,  65,  69, ..., 204, 203, 201], dtype=uint8),\n",
       "       array([130,  65,  69, ..., 204, 203, 201], dtype=uint8),\n",
       "       array([ 74,  83,  78, ..., 255, 255, 255], dtype=uint8),\n",
       "       array([ 74,  83,  78, ..., 255, 255, 255], dtype=uint8),\n",
       "       array([162, 176, 163, ..., 204, 209, 215], dtype=uint8),\n",
       "       array([161, 175, 162, ..., 204, 209, 215], dtype=uint8),\n",
       "       array([219, 108, 114, ...,  89, 118, 150], dtype=uint8),\n",
       "       array([219, 108, 114, ...,  89, 118, 150], dtype=uint8),\n",
       "       array([ 13,  25,  11, ..., 141, 124, 106], dtype=uint8),\n",
       "       array([ 13,  25,  11, ..., 141, 124, 106], dtype=uint8),\n",
       "       array([176, 118,  81, ...,  78,  36,  20], dtype=uint8),\n",
       "       array([176, 118,  81, ...,  78,  36,  20], dtype=uint8),\n",
       "       array([ 90, 123,  42, ...,  89, 107,  23], dtype=uint8),\n",
       "       array([ 90, 123,  42, ...,  89, 107,  23], dtype=uint8),\n",
       "       array([13, 15, 12, ..., 33, 73, 20], dtype=uint8),\n",
       "       array([12, 14, 11, ..., 33, 73, 20], dtype=uint8),\n",
       "       array([189, 189, 189, ...,  45,  43,  20], dtype=uint8),\n",
       "       array([189, 189, 189, ...,  45,  43,  20], dtype=uint8),\n",
       "       array([36, 37, 41, ...,  7, 18, 22], dtype=uint8),\n",
       "       array([36, 37, 41, ...,  7, 18, 22], dtype=uint8)], dtype=object)"
      ]
     },
     "execution_count": 110,
     "metadata": {},
     "output_type": "execute_result"
    }
   ],
   "source": [
    "d"
   ]
  },
  {
   "cell_type": "code",
   "execution_count": null,
   "metadata": {
    "collapsed": true
   },
   "outputs": [],
   "source": []
  },
  {
   "cell_type": "code",
   "execution_count": 92,
   "metadata": {},
   "outputs": [
    {
     "data": {
      "text/plain": [
       "array([[ 0.,  0.,  0., ...,  0.,  0.,  0.]])"
      ]
     },
     "execution_count": 92,
     "metadata": {},
     "output_type": "execute_result"
    }
   ],
   "source": [
    "n"
   ]
  },
  {
   "cell_type": "code",
   "execution_count": 95,
   "metadata": {},
   "outputs": [
    {
     "data": {
      "text/plain": [
       "array([  0.,   0.,   0., ...,   7.,  18.,  22.])"
      ]
     },
     "execution_count": 95,
     "metadata": {},
     "output_type": "execute_result"
    }
   ],
   "source": [
    "n"
   ]
  },
  {
   "cell_type": "code",
   "execution_count": 100,
   "metadata": {},
   "outputs": [],
   "source": [
    "d = n.reshape(25,-1)"
   ]
  },
  {
   "cell_type": "code",
   "execution_count": 101,
   "metadata": {},
   "outputs": [
    {
     "data": {
      "text/plain": [
       "(25, 49152)"
      ]
     },
     "execution_count": 101,
     "metadata": {},
     "output_type": "execute_result"
    }
   ],
   "source": [
    "d.shape"
   ]
  },
  {
   "cell_type": "code",
   "execution_count": 103,
   "metadata": {},
   "outputs": [
    {
     "data": {
      "text/plain": [
       "0                 boston_bull\n",
       "1                 boston_bull\n",
       "2                       dingo\n",
       "3                       dingo\n",
       "4            golden_retriever\n",
       "5            golden_retriever\n",
       "6          standard_schnauzer\n",
       "7          standard_schnauzer\n",
       "8         irish_water_spaniel\n",
       "9         irish_water_spaniel\n",
       "10    black-and-tan_coonhound\n",
       "11    black-and-tan_coonhound\n",
       "12                      cairn\n",
       "13                      cairn\n",
       "14              affenpinscher\n",
       "15              affenpinscher\n",
       "16         labrador_retriever\n",
       "17         labrador_retriever\n",
       "18               ibizan_hound\n",
       "19               ibizan_hound\n",
       "20             english_setter\n",
       "21             english_setter\n",
       "22               walker_hound\n",
       "23               walker_hound\n",
       "Name: breed, dtype: object"
      ]
     },
     "execution_count": 103,
     "metadata": {},
     "output_type": "execute_result"
    }
   ],
   "source": [
    "final_df.breed"
   ]
  },
  {
   "cell_type": "code",
   "execution_count": null,
   "metadata": {
    "collapsed": true
   },
   "outputs": [],
   "source": []
  }
 ],
 "metadata": {
  "kernelspec": {
   "display_name": "Python 3",
   "language": "python",
   "name": "python3"
  },
  "language_info": {
   "codemirror_mode": {
    "name": "ipython",
    "version": 3
   },
   "file_extension": ".py",
   "mimetype": "text/x-python",
   "name": "python",
   "nbconvert_exporter": "python",
   "pygments_lexer": "ipython3",
   "version": "3.5.4"
  }
 },
 "nbformat": 4,
 "nbformat_minor": 2
}
