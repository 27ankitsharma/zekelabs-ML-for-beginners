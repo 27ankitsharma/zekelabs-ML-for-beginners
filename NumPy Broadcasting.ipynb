{
 "cells": [
  {
   "cell_type": "code",
   "execution_count": 1,
   "metadata": {
    "collapsed": true
   },
   "outputs": [],
   "source": [
    "import numpy as np"
   ]
  },
  {
   "cell_type": "code",
   "execution_count": 2,
   "metadata": {
    "collapsed": true
   },
   "outputs": [],
   "source": [
    "a = np.array([1,2,3,4])"
   ]
  },
  {
   "cell_type": "code",
   "execution_count": 3,
   "metadata": {
    "collapsed": true
   },
   "outputs": [],
   "source": [
    "b = np.array([ [1,2,3,4], [5,6,7,8]])"
   ]
  },
  {
   "cell_type": "code",
   "execution_count": 4,
   "metadata": {},
   "outputs": [
    {
     "data": {
      "text/plain": [
       "array([1, 2, 3, 4])"
      ]
     },
     "execution_count": 4,
     "metadata": {},
     "output_type": "execute_result"
    }
   ],
   "source": [
    "a"
   ]
  },
  {
   "cell_type": "code",
   "execution_count": 5,
   "metadata": {},
   "outputs": [
    {
     "data": {
      "text/plain": [
       "array([[1, 2, 3, 4],\n",
       "       [5, 6, 7, 8]])"
      ]
     },
     "execution_count": 5,
     "metadata": {},
     "output_type": "execute_result"
    }
   ],
   "source": [
    "b"
   ]
  },
  {
   "cell_type": "code",
   "execution_count": 6,
   "metadata": {},
   "outputs": [
    {
     "data": {
      "text/plain": [
       "array([[ 2,  4,  6,  8],\n",
       "       [ 6,  8, 10, 12]])"
      ]
     },
     "execution_count": 6,
     "metadata": {},
     "output_type": "execute_result"
    }
   ],
   "source": [
    "a + b"
   ]
  },
  {
   "cell_type": "code",
   "execution_count": 7,
   "metadata": {
    "collapsed": true
   },
   "outputs": [],
   "source": [
    "c = np.array([ [1,2,3,4], [5,6,7,8]])"
   ]
  },
  {
   "cell_type": "code",
   "execution_count": 8,
   "metadata": {},
   "outputs": [
    {
     "data": {
      "text/plain": [
       "array([[ 2,  4,  6,  8],\n",
       "       [10, 12, 14, 16]])"
      ]
     },
     "execution_count": 8,
     "metadata": {},
     "output_type": "execute_result"
    }
   ],
   "source": [
    "b + c "
   ]
  },
  {
   "cell_type": "code",
   "execution_count": 9,
   "metadata": {},
   "outputs": [
    {
     "data": {
      "text/plain": [
       "array([[1, 2, 3, 4],\n",
       "       [5, 6, 7, 8]])"
      ]
     },
     "execution_count": 9,
     "metadata": {},
     "output_type": "execute_result"
    }
   ],
   "source": [
    "b"
   ]
  },
  {
   "cell_type": "code",
   "execution_count": 10,
   "metadata": {},
   "outputs": [
    {
     "data": {
      "text/plain": [
       "array([[1, 2, 3, 4],\n",
       "       [5, 6, 7, 8]])"
      ]
     },
     "execution_count": 10,
     "metadata": {},
     "output_type": "execute_result"
    }
   ],
   "source": [
    "c"
   ]
  },
  {
   "cell_type": "code",
   "execution_count": 11,
   "metadata": {},
   "outputs": [
    {
     "data": {
      "text/plain": [
       "array([[ 1,  4,  9, 16],\n",
       "       [25, 36, 49, 64]])"
      ]
     },
     "execution_count": 11,
     "metadata": {},
     "output_type": "execute_result"
    }
   ],
   "source": [
    "b * c"
   ]
  },
  {
   "cell_type": "code",
   "execution_count": 12,
   "metadata": {},
   "outputs": [
    {
     "data": {
      "text/plain": [
       "array([1, 2, 3, 4])"
      ]
     },
     "execution_count": 12,
     "metadata": {},
     "output_type": "execute_result"
    }
   ],
   "source": [
    "a"
   ]
  },
  {
   "cell_type": "code",
   "execution_count": 15,
   "metadata": {},
   "outputs": [
    {
     "data": {
      "text/plain": [
       "(2, 4)"
      ]
     },
     "execution_count": 15,
     "metadata": {},
     "output_type": "execute_result"
    }
   ],
   "source": [
    "b.shape"
   ]
  },
  {
   "cell_type": "code",
   "execution_count": 14,
   "metadata": {},
   "outputs": [
    {
     "data": {
      "text/plain": [
       "2"
      ]
     },
     "execution_count": 14,
     "metadata": {},
     "output_type": "execute_result"
    }
   ],
   "source": [
    "b.ndim"
   ]
  },
  {
   "cell_type": "code",
   "execution_count": 16,
   "metadata": {},
   "outputs": [
    {
     "data": {
      "text/plain": [
       "(4,)"
      ]
     },
     "execution_count": 16,
     "metadata": {},
     "output_type": "execute_result"
    }
   ],
   "source": [
    "a.shape"
   ]
  },
  {
   "cell_type": "markdown",
   "metadata": {},
   "source": [
    "### Rule 1\n",
    "The first rule of broadcasting is that if all input arrays do not have the same number of dimensions, a “1” will be repeatedly prepended to the shapes of the smaller arrays until all the arrays have the same number of dimensions."
   ]
  },
  {
   "cell_type": "code",
   "execution_count": 17,
   "metadata": {},
   "outputs": [
    {
     "data": {
      "text/plain": [
       "array([[1, 2, 3, 4]])"
      ]
     },
     "execution_count": 17,
     "metadata": {},
     "output_type": "execute_result"
    }
   ],
   "source": [
    "a.reshape(1,4)"
   ]
  },
  {
   "cell_type": "markdown",
   "metadata": {},
   "source": [
    "### Rule 2\n",
    "The second rule of broadcasting ensures that arrays with a size of 1 along a particular dimension act as if they had the size of the array with the largest shape along that dimension. The value of the array element is assumed to be the same along that dimension for the “broadcast” array."
   ]
  },
  {
   "cell_type": "code",
   "execution_count": 18,
   "metadata": {
    "collapsed": true
   },
   "outputs": [],
   "source": [
    "a = np.array([ [1,2,3], [5,6,7]])"
   ]
  },
  {
   "cell_type": "code",
   "execution_count": 19,
   "metadata": {
    "collapsed": true
   },
   "outputs": [],
   "source": [
    "b = np.array([ [1,2,3,4], [5,6,7,4], [8,9,0,1]])"
   ]
  },
  {
   "cell_type": "code",
   "execution_count": 20,
   "metadata": {},
   "outputs": [
    {
     "data": {
      "text/plain": [
       "(2, 3)"
      ]
     },
     "execution_count": 20,
     "metadata": {},
     "output_type": "execute_result"
    }
   ],
   "source": [
    "a.shape"
   ]
  },
  {
   "cell_type": "code",
   "execution_count": 21,
   "metadata": {},
   "outputs": [
    {
     "data": {
      "text/plain": [
       "(3, 4)"
      ]
     },
     "execution_count": 21,
     "metadata": {},
     "output_type": "execute_result"
    }
   ],
   "source": [
    "b.shape"
   ]
  },
  {
   "cell_type": "code",
   "execution_count": 22,
   "metadata": {},
   "outputs": [
    {
     "data": {
      "text/plain": [
       "(4, 3)"
      ]
     },
     "execution_count": 22,
     "metadata": {},
     "output_type": "execute_result"
    }
   ],
   "source": [
    "b.T.shape"
   ]
  },
  {
   "cell_type": "code",
   "execution_count": 24,
   "metadata": {},
   "outputs": [
    {
     "data": {
      "text/plain": [
       "(2, 3)"
      ]
     },
     "execution_count": 24,
     "metadata": {},
     "output_type": "execute_result"
    }
   ],
   "source": [
    "a.shape"
   ]
  },
  {
   "cell_type": "code",
   "execution_count": 25,
   "metadata": {},
   "outputs": [
    {
     "data": {
      "text/plain": [
       "(3, 4)"
      ]
     },
     "execution_count": 25,
     "metadata": {},
     "output_type": "execute_result"
    }
   ],
   "source": [
    "b.shape"
   ]
  },
  {
   "cell_type": "code",
   "execution_count": 27,
   "metadata": {},
   "outputs": [
    {
     "data": {
      "text/plain": [
       "array([[[ 2,  3,  4,  5],\n",
       "        [ 7,  8,  9,  6],\n",
       "        [11, 12,  3,  4]],\n",
       "\n",
       "       [[ 6,  7,  8,  9],\n",
       "        [11, 12, 13, 10],\n",
       "        [15, 16,  7,  8]]])"
      ]
     },
     "execution_count": 27,
     "metadata": {},
     "output_type": "execute_result"
    }
   ],
   "source": [
    "a.reshape(2,3,1) + b.reshape(1,3,4)"
   ]
  },
  {
   "cell_type": "code",
   "execution_count": 28,
   "metadata": {},
   "outputs": [
    {
     "data": {
      "text/plain": [
       "array([[[1],\n",
       "        [2],\n",
       "        [3]],\n",
       "\n",
       "       [[5],\n",
       "        [6],\n",
       "        [7]]])"
      ]
     },
     "execution_count": 28,
     "metadata": {},
     "output_type": "execute_result"
    }
   ],
   "source": [
    "a.reshape(2,3,1)"
   ]
  },
  {
   "cell_type": "code",
   "execution_count": 29,
   "metadata": {},
   "outputs": [
    {
     "data": {
      "text/plain": [
       "array([[[1, 2, 3, 4],\n",
       "        [5, 6, 7, 4],\n",
       "        [8, 9, 0, 1]]])"
      ]
     },
     "execution_count": 29,
     "metadata": {},
     "output_type": "execute_result"
    }
   ],
   "source": [
    "b.reshape(1,3,4)"
   ]
  },
  {
   "cell_type": "code",
   "execution_count": 30,
   "metadata": {
    "collapsed": true
   },
   "outputs": [],
   "source": [
    "a = np.random.randint(5,10,size=(2,3,4))\n",
    "b = np.random.randint(5,10,size=(6,5))"
   ]
  },
  {
   "cell_type": "code",
   "execution_count": 31,
   "metadata": {},
   "outputs": [
    {
     "data": {
      "text/plain": [
       "array([[[[[11, 13, 13, 11],\n",
       "          [15, 13, 13, 11],\n",
       "          [14, 12, 11, 13]],\n",
       "\n",
       "         [[11, 13, 15, 13],\n",
       "          [15, 12, 11, 11],\n",
       "          [14, 13, 14, 11]]],\n",
       "\n",
       "\n",
       "        [[[13, 15, 15, 13],\n",
       "          [17, 15, 15, 13],\n",
       "          [16, 14, 13, 15]],\n",
       "\n",
       "         [[13, 15, 17, 15],\n",
       "          [17, 14, 13, 13],\n",
       "          [16, 15, 16, 13]]],\n",
       "\n",
       "\n",
       "        [[[11, 13, 13, 11],\n",
       "          [15, 13, 13, 11],\n",
       "          [14, 12, 11, 13]],\n",
       "\n",
       "         [[11, 13, 15, 13],\n",
       "          [15, 12, 11, 11],\n",
       "          [14, 13, 14, 11]]],\n",
       "\n",
       "\n",
       "        [[[13, 15, 15, 13],\n",
       "          [17, 15, 15, 13],\n",
       "          [16, 14, 13, 15]],\n",
       "\n",
       "         [[13, 15, 17, 15],\n",
       "          [17, 14, 13, 13],\n",
       "          [16, 15, 16, 13]]],\n",
       "\n",
       "\n",
       "        [[[13, 15, 15, 13],\n",
       "          [17, 15, 15, 13],\n",
       "          [16, 14, 13, 15]],\n",
       "\n",
       "         [[13, 15, 17, 15],\n",
       "          [17, 14, 13, 13],\n",
       "          [16, 15, 16, 13]]]],\n",
       "\n",
       "\n",
       "\n",
       "       [[[[13, 15, 15, 13],\n",
       "          [17, 15, 15, 13],\n",
       "          [16, 14, 13, 15]],\n",
       "\n",
       "         [[13, 15, 17, 15],\n",
       "          [17, 14, 13, 13],\n",
       "          [16, 15, 16, 13]]],\n",
       "\n",
       "\n",
       "        [[[11, 13, 13, 11],\n",
       "          [15, 13, 13, 11],\n",
       "          [14, 12, 11, 13]],\n",
       "\n",
       "         [[11, 13, 15, 13],\n",
       "          [15, 12, 11, 11],\n",
       "          [14, 13, 14, 11]]],\n",
       "\n",
       "\n",
       "        [[[10, 12, 12, 10],\n",
       "          [14, 12, 12, 10],\n",
       "          [13, 11, 10, 12]],\n",
       "\n",
       "         [[10, 12, 14, 12],\n",
       "          [14, 11, 10, 10],\n",
       "          [13, 12, 13, 10]]],\n",
       "\n",
       "\n",
       "        [[[13, 15, 15, 13],\n",
       "          [17, 15, 15, 13],\n",
       "          [16, 14, 13, 15]],\n",
       "\n",
       "         [[13, 15, 17, 15],\n",
       "          [17, 14, 13, 13],\n",
       "          [16, 15, 16, 13]]],\n",
       "\n",
       "\n",
       "        [[[12, 14, 14, 12],\n",
       "          [16, 14, 14, 12],\n",
       "          [15, 13, 12, 14]],\n",
       "\n",
       "         [[12, 14, 16, 14],\n",
       "          [16, 13, 12, 12],\n",
       "          [15, 14, 15, 12]]]],\n",
       "\n",
       "\n",
       "\n",
       "       [[[[14, 16, 16, 14],\n",
       "          [18, 16, 16, 14],\n",
       "          [17, 15, 14, 16]],\n",
       "\n",
       "         [[14, 16, 18, 16],\n",
       "          [18, 15, 14, 14],\n",
       "          [17, 16, 17, 14]]],\n",
       "\n",
       "\n",
       "        [[[10, 12, 12, 10],\n",
       "          [14, 12, 12, 10],\n",
       "          [13, 11, 10, 12]],\n",
       "\n",
       "         [[10, 12, 14, 12],\n",
       "          [14, 11, 10, 10],\n",
       "          [13, 12, 13, 10]]],\n",
       "\n",
       "\n",
       "        [[[13, 15, 15, 13],\n",
       "          [17, 15, 15, 13],\n",
       "          [16, 14, 13, 15]],\n",
       "\n",
       "         [[13, 15, 17, 15],\n",
       "          [17, 14, 13, 13],\n",
       "          [16, 15, 16, 13]]],\n",
       "\n",
       "\n",
       "        [[[11, 13, 13, 11],\n",
       "          [15, 13, 13, 11],\n",
       "          [14, 12, 11, 13]],\n",
       "\n",
       "         [[11, 13, 15, 13],\n",
       "          [15, 12, 11, 11],\n",
       "          [14, 13, 14, 11]]],\n",
       "\n",
       "\n",
       "        [[[13, 15, 15, 13],\n",
       "          [17, 15, 15, 13],\n",
       "          [16, 14, 13, 15]],\n",
       "\n",
       "         [[13, 15, 17, 15],\n",
       "          [17, 14, 13, 13],\n",
       "          [16, 15, 16, 13]]]],\n",
       "\n",
       "\n",
       "\n",
       "       [[[[10, 12, 12, 10],\n",
       "          [14, 12, 12, 10],\n",
       "          [13, 11, 10, 12]],\n",
       "\n",
       "         [[10, 12, 14, 12],\n",
       "          [14, 11, 10, 10],\n",
       "          [13, 12, 13, 10]]],\n",
       "\n",
       "\n",
       "        [[[10, 12, 12, 10],\n",
       "          [14, 12, 12, 10],\n",
       "          [13, 11, 10, 12]],\n",
       "\n",
       "         [[10, 12, 14, 12],\n",
       "          [14, 11, 10, 10],\n",
       "          [13, 12, 13, 10]]],\n",
       "\n",
       "\n",
       "        [[[14, 16, 16, 14],\n",
       "          [18, 16, 16, 14],\n",
       "          [17, 15, 14, 16]],\n",
       "\n",
       "         [[14, 16, 18, 16],\n",
       "          [18, 15, 14, 14],\n",
       "          [17, 16, 17, 14]]],\n",
       "\n",
       "\n",
       "        [[[10, 12, 12, 10],\n",
       "          [14, 12, 12, 10],\n",
       "          [13, 11, 10, 12]],\n",
       "\n",
       "         [[10, 12, 14, 12],\n",
       "          [14, 11, 10, 10],\n",
       "          [13, 12, 13, 10]]],\n",
       "\n",
       "\n",
       "        [[[12, 14, 14, 12],\n",
       "          [16, 14, 14, 12],\n",
       "          [15, 13, 12, 14]],\n",
       "\n",
       "         [[12, 14, 16, 14],\n",
       "          [16, 13, 12, 12],\n",
       "          [15, 14, 15, 12]]]],\n",
       "\n",
       "\n",
       "\n",
       "       [[[[12, 14, 14, 12],\n",
       "          [16, 14, 14, 12],\n",
       "          [15, 13, 12, 14]],\n",
       "\n",
       "         [[12, 14, 16, 14],\n",
       "          [16, 13, 12, 12],\n",
       "          [15, 14, 15, 12]]],\n",
       "\n",
       "\n",
       "        [[[10, 12, 12, 10],\n",
       "          [14, 12, 12, 10],\n",
       "          [13, 11, 10, 12]],\n",
       "\n",
       "         [[10, 12, 14, 12],\n",
       "          [14, 11, 10, 10],\n",
       "          [13, 12, 13, 10]]],\n",
       "\n",
       "\n",
       "        [[[10, 12, 12, 10],\n",
       "          [14, 12, 12, 10],\n",
       "          [13, 11, 10, 12]],\n",
       "\n",
       "         [[10, 12, 14, 12],\n",
       "          [14, 11, 10, 10],\n",
       "          [13, 12, 13, 10]]],\n",
       "\n",
       "\n",
       "        [[[13, 15, 15, 13],\n",
       "          [17, 15, 15, 13],\n",
       "          [16, 14, 13, 15]],\n",
       "\n",
       "         [[13, 15, 17, 15],\n",
       "          [17, 14, 13, 13],\n",
       "          [16, 15, 16, 13]]],\n",
       "\n",
       "\n",
       "        [[[11, 13, 13, 11],\n",
       "          [15, 13, 13, 11],\n",
       "          [14, 12, 11, 13]],\n",
       "\n",
       "         [[11, 13, 15, 13],\n",
       "          [15, 12, 11, 11],\n",
       "          [14, 13, 14, 11]]]],\n",
       "\n",
       "\n",
       "\n",
       "       [[[[10, 12, 12, 10],\n",
       "          [14, 12, 12, 10],\n",
       "          [13, 11, 10, 12]],\n",
       "\n",
       "         [[10, 12, 14, 12],\n",
       "          [14, 11, 10, 10],\n",
       "          [13, 12, 13, 10]]],\n",
       "\n",
       "\n",
       "        [[[11, 13, 13, 11],\n",
       "          [15, 13, 13, 11],\n",
       "          [14, 12, 11, 13]],\n",
       "\n",
       "         [[11, 13, 15, 13],\n",
       "          [15, 12, 11, 11],\n",
       "          [14, 13, 14, 11]]],\n",
       "\n",
       "\n",
       "        [[[14, 16, 16, 14],\n",
       "          [18, 16, 16, 14],\n",
       "          [17, 15, 14, 16]],\n",
       "\n",
       "         [[14, 16, 18, 16],\n",
       "          [18, 15, 14, 14],\n",
       "          [17, 16, 17, 14]]],\n",
       "\n",
       "\n",
       "        [[[14, 16, 16, 14],\n",
       "          [18, 16, 16, 14],\n",
       "          [17, 15, 14, 16]],\n",
       "\n",
       "         [[14, 16, 18, 16],\n",
       "          [18, 15, 14, 14],\n",
       "          [17, 16, 17, 14]]],\n",
       "\n",
       "\n",
       "        [[[11, 13, 13, 11],\n",
       "          [15, 13, 13, 11],\n",
       "          [14, 12, 11, 13]],\n",
       "\n",
       "         [[11, 13, 15, 13],\n",
       "          [15, 12, 11, 11],\n",
       "          [14, 13, 14, 11]]]]])"
      ]
     },
     "execution_count": 31,
     "metadata": {},
     "output_type": "execute_result"
    }
   ],
   "source": [
    "a.reshape(1,1,2,3,4) + b.reshape(6,5,1,1,1)\n"
   ]
  },
  {
   "cell_type": "code",
   "execution_count": 32,
   "metadata": {
    "collapsed": true
   },
   "outputs": [],
   "source": [
    "a = np.random.randint(10,size=(3,4))"
   ]
  },
  {
   "cell_type": "code",
   "execution_count": 33,
   "metadata": {
    "collapsed": true
   },
   "outputs": [],
   "source": [
    "b = np.random.randint(20, size=(4,5))"
   ]
  },
  {
   "cell_type": "code",
   "execution_count": 34,
   "metadata": {},
   "outputs": [
    {
     "data": {
      "text/plain": [
       "array([[ 37, 151, 113,  67, 175],\n",
       "       [201, 200, 295, 243, 308],\n",
       "       [195, 217, 269, 241, 290]])"
      ]
     },
     "execution_count": 34,
     "metadata": {},
     "output_type": "execute_result"
    }
   ],
   "source": [
    "np.matmul(a,b)"
   ]
  },
  {
   "cell_type": "code",
   "execution_count": 35,
   "metadata": {},
   "outputs": [
    {
     "ename": "ValueError",
     "evalue": "operands could not be broadcast together with shapes (3,4) (4,5) ",
     "output_type": "error",
     "traceback": [
      "\u001b[1;31m---------------------------------------------------------------------------\u001b[0m",
      "\u001b[1;31mValueError\u001b[0m                                Traceback (most recent call last)",
      "\u001b[1;32m<ipython-input-35-50927f39610b>\u001b[0m in \u001b[0;36m<module>\u001b[1;34m()\u001b[0m\n\u001b[1;32m----> 1\u001b[1;33m \u001b[0ma\u001b[0m \u001b[1;33m*\u001b[0m \u001b[0mb\u001b[0m\u001b[1;33m\u001b[0m\u001b[0m\n\u001b[0m",
      "\u001b[1;31mValueError\u001b[0m: operands could not be broadcast together with shapes (3,4) (4,5) "
     ]
    }
   ],
   "source": [
    "a * b"
   ]
  },
  {
   "cell_type": "code",
   "execution_count": 36,
   "metadata": {
    "collapsed": true
   },
   "outputs": [],
   "source": [
    "a = np.arange(10)"
   ]
  },
  {
   "cell_type": "code",
   "execution_count": 37,
   "metadata": {
    "collapsed": true
   },
   "outputs": [],
   "source": [
    "b = a"
   ]
  },
  {
   "cell_type": "code",
   "execution_count": 38,
   "metadata": {
    "collapsed": true
   },
   "outputs": [],
   "source": [
    "a[0] = 88"
   ]
  },
  {
   "cell_type": "code",
   "execution_count": 39,
   "metadata": {},
   "outputs": [
    {
     "data": {
      "text/plain": [
       "array([88,  1,  2,  3,  4,  5,  6,  7,  8,  9])"
      ]
     },
     "execution_count": 39,
     "metadata": {},
     "output_type": "execute_result"
    }
   ],
   "source": [
    "b"
   ]
  },
  {
   "cell_type": "code",
   "execution_count": 40,
   "metadata": {},
   "outputs": [
    {
     "data": {
      "text/plain": [
       "True"
      ]
     },
     "execution_count": 40,
     "metadata": {},
     "output_type": "execute_result"
    }
   ],
   "source": [
    "a is b"
   ]
  },
  {
   "cell_type": "code",
   "execution_count": 41,
   "metadata": {
    "collapsed": true
   },
   "outputs": [],
   "source": [
    "c = a.view()"
   ]
  },
  {
   "cell_type": "code",
   "execution_count": 42,
   "metadata": {},
   "outputs": [
    {
     "data": {
      "text/plain": [
       "array([88,  1,  2,  3,  4,  5,  6,  7,  8,  9])"
      ]
     },
     "execution_count": 42,
     "metadata": {},
     "output_type": "execute_result"
    }
   ],
   "source": [
    "c"
   ]
  },
  {
   "cell_type": "code",
   "execution_count": 43,
   "metadata": {
    "collapsed": true
   },
   "outputs": [],
   "source": [
    "a[0] = 99"
   ]
  },
  {
   "cell_type": "code",
   "execution_count": 44,
   "metadata": {},
   "outputs": [
    {
     "data": {
      "text/plain": [
       "array([99,  1,  2,  3,  4,  5,  6,  7,  8,  9])"
      ]
     },
     "execution_count": 44,
     "metadata": {},
     "output_type": "execute_result"
    }
   ],
   "source": [
    "a"
   ]
  },
  {
   "cell_type": "code",
   "execution_count": 45,
   "metadata": {},
   "outputs": [
    {
     "data": {
      "text/plain": [
       "array([99,  1,  2,  3,  4,  5,  6,  7,  8,  9])"
      ]
     },
     "execution_count": 45,
     "metadata": {},
     "output_type": "execute_result"
    }
   ],
   "source": [
    "c"
   ]
  },
  {
   "cell_type": "code",
   "execution_count": 48,
   "metadata": {},
   "outputs": [],
   "source": [
    "c = c.reshape(2,5)"
   ]
  },
  {
   "cell_type": "code",
   "execution_count": 49,
   "metadata": {},
   "outputs": [
    {
     "data": {
      "text/plain": [
       "array([99,  1,  2,  3,  4,  5,  6,  7,  8,  9])"
      ]
     },
     "execution_count": 49,
     "metadata": {},
     "output_type": "execute_result"
    }
   ],
   "source": [
    "a"
   ]
  },
  {
   "cell_type": "code",
   "execution_count": 51,
   "metadata": {},
   "outputs": [],
   "source": [
    "a = a.reshape(5,2)"
   ]
  },
  {
   "cell_type": "code",
   "execution_count": 52,
   "metadata": {},
   "outputs": [
    {
     "data": {
      "text/plain": [
       "array([[99,  1,  2,  3,  4],\n",
       "       [ 5,  6,  7,  8,  9]])"
      ]
     },
     "execution_count": 52,
     "metadata": {},
     "output_type": "execute_result"
    }
   ],
   "source": [
    "c"
   ]
  },
  {
   "cell_type": "code",
   "execution_count": 53,
   "metadata": {},
   "outputs": [
    {
     "data": {
      "text/plain": [
       "array([[99,  1],\n",
       "       [ 2,  3],\n",
       "       [ 4,  5],\n",
       "       [ 6,  7],\n",
       "       [ 8,  9]])"
      ]
     },
     "execution_count": 53,
     "metadata": {},
     "output_type": "execute_result"
    }
   ],
   "source": [
    "a"
   ]
  },
  {
   "cell_type": "code",
   "execution_count": 54,
   "metadata": {},
   "outputs": [
    {
     "data": {
      "text/plain": [
       "array([[99,  1],\n",
       "       [ 2,  3],\n",
       "       [ 4,  5],\n",
       "       [ 6,  7],\n",
       "       [ 8,  9]])"
      ]
     },
     "execution_count": 54,
     "metadata": {},
     "output_type": "execute_result"
    }
   ],
   "source": [
    "a"
   ]
  },
  {
   "cell_type": "code",
   "execution_count": 55,
   "metadata": {
    "collapsed": true
   },
   "outputs": [],
   "source": [
    "z = a.copy()"
   ]
  },
  {
   "cell_type": "code",
   "execution_count": 56,
   "metadata": {},
   "outputs": [
    {
     "data": {
      "text/plain": [
       "array([[99,  1],\n",
       "       [ 2,  3],\n",
       "       [ 4,  5],\n",
       "       [ 6,  7],\n",
       "       [ 8,  9]])"
      ]
     },
     "execution_count": 56,
     "metadata": {},
     "output_type": "execute_result"
    }
   ],
   "source": [
    "z"
   ]
  },
  {
   "cell_type": "code",
   "execution_count": 58,
   "metadata": {},
   "outputs": [],
   "source": [
    "a[0][1] = 88"
   ]
  },
  {
   "cell_type": "code",
   "execution_count": 59,
   "metadata": {},
   "outputs": [
    {
     "data": {
      "text/plain": [
       "array([[99, 88],\n",
       "       [ 2,  3],\n",
       "       [ 4,  5],\n",
       "       [ 6,  7],\n",
       "       [ 8,  9]])"
      ]
     },
     "execution_count": 59,
     "metadata": {},
     "output_type": "execute_result"
    }
   ],
   "source": [
    "a"
   ]
  },
  {
   "cell_type": "code",
   "execution_count": 60,
   "metadata": {},
   "outputs": [
    {
     "data": {
      "text/plain": [
       "array([[99,  1],\n",
       "       [ 2,  3],\n",
       "       [ 4,  5],\n",
       "       [ 6,  7],\n",
       "       [ 8,  9]])"
      ]
     },
     "execution_count": 60,
     "metadata": {},
     "output_type": "execute_result"
    }
   ],
   "source": [
    "z"
   ]
  },
  {
   "cell_type": "code",
   "execution_count": null,
   "metadata": {
    "collapsed": true
   },
   "outputs": [],
   "source": []
  }
 ],
 "metadata": {
  "kernelspec": {
   "display_name": "Python 3",
   "language": "python",
   "name": "python3"
  },
  "language_info": {
   "codemirror_mode": {
    "name": "ipython",
    "version": 3
   },
   "file_extension": ".py",
   "mimetype": "text/x-python",
   "name": "python",
   "nbconvert_exporter": "python",
   "pygments_lexer": "ipython3",
   "version": "3.5.4"
  }
 },
 "nbformat": 4,
 "nbformat_minor": 2
}
