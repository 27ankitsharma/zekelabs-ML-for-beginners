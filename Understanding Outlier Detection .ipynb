{
 "cells": [
  {
   "cell_type": "code",
   "execution_count": 1,
   "metadata": {
    "collapsed": true
   },
   "outputs": [],
   "source": [
    "from sklearn.datasets import make_blobs"
   ]
  },
  {
   "cell_type": "code",
   "execution_count": 32,
   "metadata": {},
   "outputs": [],
   "source": [
    "features, col = make_blobs(centers=1, cluster_std=.90)\n",
    "features[0,1]= 5\n",
    "features[0,0] = 5"
   ]
  },
  {
   "cell_type": "code",
   "execution_count": 33,
   "metadata": {
    "collapsed": true
   },
   "outputs": [],
   "source": [
    "import matplotlib.pyplot as plt"
   ]
  },
  {
   "cell_type": "code",
   "execution_count": 34,
   "metadata": {
    "collapsed": true
   },
   "outputs": [],
   "source": [
    "%matplotlib inline"
   ]
  },
  {
   "cell_type": "code",
   "execution_count": 35,
   "metadata": {},
   "outputs": [
    {
     "data": {
      "text/plain": [
       "<matplotlib.collections.PathCollection at 0x1af7d815cf8>"
      ]
     },
     "execution_count": 35,
     "metadata": {},
     "output_type": "execute_result"
    },
    {
     "data": {
      "image/png": "[encoded data removed]",
      "text/plain": [
       "<matplotlib.figure.Figure at 0x1af7d7e52e8>"
      ]
     },
     "metadata": {},
     "output_type": "display_data"
    }
   ],
   "source": [
    "plt.scatter(features[:,0], features[:,1], c=col)"
   ]
  },
  {
   "cell_type": "code",
   "execution_count": 36,
   "metadata": {
    "collapsed": true
   },
   "outputs": [],
   "source": [
    "from sklearn.covariance import EllipticEnvelope"
   ]
  },
  {
   "cell_type": "code",
   "execution_count": 40,
   "metadata": {
    "collapsed": true
   },
   "outputs": [],
   "source": [
    "env = EllipticEnvelope(contamination=.01)"
   ]
  },
  {
   "cell_type": "code",
   "execution_count": 41,
   "metadata": {},
   "outputs": [
    {
     "data": {
      "text/plain": [
       "EllipticEnvelope(assume_centered=False, contamination=0.01, random_state=None,\n",
       "         store_precision=True, support_fraction=None)"
      ]
     },
     "execution_count": 41,
     "metadata": {},
     "output_type": "execute_result"
    }
   ],
   "source": [
    "env.fit(features)"
   ]
  },
  {
   "cell_type": "code",
   "execution_count": 42,
   "metadata": {},
   "outputs": [
    {
     "data": {
      "text/plain": [
       "array([-1,  1,  1,  1,  1,  1,  1,  1,  1,  1,  1,  1,  1,  1,  1,  1,  1,\n",
       "        1,  1,  1,  1,  1,  1,  1,  1,  1,  1,  1,  1,  1,  1,  1,  1,  1,\n",
       "        1,  1,  1,  1,  1,  1,  1,  1,  1,  1,  1,  1,  1,  1,  1,  1,  1,\n",
       "        1,  1,  1,  1,  1,  1,  1,  1,  1,  1,  1,  1,  1,  1,  1,  1,  1,\n",
       "        1,  1,  1,  1,  1,  1,  1,  1,  1,  1,  1,  1,  1,  1,  1,  1,  1,\n",
       "        1,  1,  1,  1,  1,  1,  1,  1,  1,  1,  1,  1,  1,  1,  1])"
      ]
     },
     "execution_count": 42,
     "metadata": {},
     "output_type": "execute_result"
    }
   ],
   "source": [
    "env.predict(features)"
   ]
  },
  {
   "cell_type": "code",
   "execution_count": 43,
   "metadata": {},
   "outputs": [
    {
     "data": {
      "text/plain": [
       "array([[ 5.        ,  5.        ],\n",
       "       [ 6.94405662, -4.28923671],\n",
       "       [ 5.47370176, -4.70153881],\n",
       "       [ 6.88672593, -3.09677352],\n",
       "       [ 7.41617703, -2.48205145],\n",
       "       [ 6.0387959 , -3.9411545 ],\n",
       "       [ 8.11000495, -3.92139224],\n",
       "       [ 6.60067291, -3.52016337],\n",
       "       [ 4.77824019, -3.24719561],\n",
       "       [ 6.45116927, -4.32796603],\n",
       "       [ 5.20675929, -4.34237997],\n",
       "       [ 6.20972998, -4.42262781],\n",
       "       [ 7.92805124, -3.42934166],\n",
       "       [ 6.95789938, -1.72564259],\n",
       "       [ 6.95191367, -4.55568539],\n",
       "       [ 6.7706435 , -3.91085209],\n",
       "       [ 4.87027447, -3.21705387],\n",
       "       [ 7.10700006, -3.50905197],\n",
       "       [ 7.40663236, -2.99448358],\n",
       "       [ 7.44026008, -4.89030898],\n",
       "       [ 5.89137864, -3.68591251],\n",
       "       [ 7.28315646, -2.8674472 ],\n",
       "       [ 5.76078687, -1.82999753],\n",
       "       [ 5.78002454, -4.01956958],\n",
       "       [ 6.61477917, -4.60572789],\n",
       "       [ 7.1796187 , -3.14357349],\n",
       "       [ 6.49570849, -5.51154263],\n",
       "       [ 5.46731501, -4.2452049 ],\n",
       "       [ 6.28641979, -4.2332769 ],\n",
       "       [ 5.31144392, -4.37456811],\n",
       "       [ 5.95077208, -4.63407253],\n",
       "       [ 6.75470622, -1.9315698 ],\n",
       "       [ 6.11631386, -2.40522796],\n",
       "       [ 7.66653454, -6.26887252],\n",
       "       [ 7.16837557, -2.72193934],\n",
       "       [ 6.13471826, -2.73526239],\n",
       "       [ 6.05946917, -4.96580064],\n",
       "       [ 7.12247087, -2.20353049],\n",
       "       [ 6.60557471, -2.31703448],\n",
       "       [ 6.01659415, -3.58022181],\n",
       "       [ 8.0621202 , -3.61116255],\n",
       "       [ 7.37114403, -2.40551996],\n",
       "       [ 5.40453645, -3.7704443 ],\n",
       "       [ 7.36740943, -3.16088785],\n",
       "       [ 7.07346989, -4.36666155],\n",
       "       [ 7.98148085, -2.23744312],\n",
       "       [ 6.10302555, -4.3851636 ],\n",
       "       [ 5.69388274, -3.89745887],\n",
       "       [ 5.92789734, -5.42910103],\n",
       "       [ 7.56841192, -4.08057411],\n",
       "       [ 6.78009717, -3.25723751],\n",
       "       [ 6.49133358, -2.96733848],\n",
       "       [ 6.44486829, -2.46701571],\n",
       "       [ 6.03665017, -3.06231137],\n",
       "       [ 7.51709263, -4.39489633],\n",
       "       [ 5.85111133, -5.86833684],\n",
       "       [ 6.88123481, -2.73797176],\n",
       "       [ 6.53911947, -2.85701989],\n",
       "       [ 6.32681835, -2.50273998],\n",
       "       [ 5.66706466, -3.97666256],\n",
       "       [ 6.61061269, -3.99984621],\n",
       "       [ 7.55648808, -3.58543244],\n",
       "       [ 6.03429874, -2.23507487],\n",
       "       [ 5.80996679, -4.89782653],\n",
       "       [ 4.84247174, -2.69220604],\n",
       "       [ 5.00015634, -3.49718909],\n",
       "       [ 8.42148246, -2.65848173],\n",
       "       [ 6.34331753, -3.56640315],\n",
       "       [ 5.69038519, -4.25618077],\n",
       "       [ 6.36944418, -2.69429011],\n",
       "       [ 6.34041777, -5.49223269],\n",
       "       [ 6.3552026 , -2.77710833],\n",
       "       [ 6.01324694, -4.27199092],\n",
       "       [ 6.58852385, -3.32741763],\n",
       "       [ 4.8554754 , -4.00400439],\n",
       "       [ 5.83604924, -2.16006938],\n",
       "       [ 6.56806495, -3.1638905 ],\n",
       "       [ 6.00326057, -4.07473246],\n",
       "       [ 4.19669803, -3.63250737],\n",
       "       [ 4.93464096, -3.58361312],\n",
       "       [ 6.22101063, -4.09750023],\n",
       "       [ 5.55258432, -5.88432555],\n",
       "       [ 6.70539199, -2.50524299],\n",
       "       [ 7.7518139 , -2.19915165],\n",
       "       [ 5.68836793, -2.60513313],\n",
       "       [ 6.28980108, -3.86148729],\n",
       "       [ 6.80504155, -3.27438306],\n",
       "       [ 5.29381445, -3.35349221],\n",
       "       [ 6.64475204, -2.09012373],\n",
       "       [ 6.56420453, -4.67529896],\n",
       "       [ 7.46752025, -3.16736035],\n",
       "       [ 5.65640753, -2.91508932],\n",
       "       [ 6.72953815, -4.15603945],\n",
       "       [ 4.86294504, -3.86852799],\n",
       "       [ 4.83732237, -5.72146652],\n",
       "       [ 6.04877163, -1.96973352],\n",
       "       [ 4.95190609, -3.19264751],\n",
       "       [ 6.40891547, -2.03727799],\n",
       "       [ 6.29862628, -3.2593016 ],\n",
       "       [ 5.73146   , -3.28490324]])"
      ]
     },
     "execution_count": 43,
     "metadata": {},
     "output_type": "execute_result"
    }
   ],
   "source": [
    "features"
   ]
  },
  {
   "cell_type": "code",
   "execution_count": null,
   "metadata": {
    "collapsed": true
   },
   "outputs": [],
   "source": []
  }
 ],
 "metadata": {
  "kernelspec": {
   "display_name": "Python 3",
   "language": "python",
   "name": "python3"
  },
  "language_info": {
   "codemirror_mode": {
    "name": "ipython",
    "version": 3
   },
   "file_extension": ".py",
   "mimetype": "text/x-python",
   "name": "python",
   "nbconvert_exporter": "python",
   "pygments_lexer": "ipython3",
   "version": "3.5.4"
  }
 },
 "nbformat": 4,
 "nbformat_minor": 2
}
