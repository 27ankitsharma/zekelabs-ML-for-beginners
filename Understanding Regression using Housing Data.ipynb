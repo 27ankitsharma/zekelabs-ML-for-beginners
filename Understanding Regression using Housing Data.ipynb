{
 "cells": [
  {
   "cell_type": "code",
   "execution_count": 1,
   "metadata": {
    "collapsed": true
   },
   "outputs": [],
   "source": [
    "import pandas as pd"
   ]
  },
  {
   "cell_type": "code",
   "execution_count": 4,
   "metadata": {},
   "outputs": [],
   "source": [
    "house_data = pd.read_csv('house_rental.csv.txt', index_col='Unnamed: 0')"
   ]
  },
  {
   "cell_type": "code",
   "execution_count": 10,
   "metadata": {},
   "outputs": [],
   "source": [
    "features = list(set(house_data.columns.tolist()) - set(['Price']))"
   ]
  },
  {
   "cell_type": "code",
   "execution_count": 13,
   "metadata": {},
   "outputs": [
    {
     "data": {
      "text/html": [
       "<div>\n",
       "<style>\n",
       "    .dataframe thead tr:only-child th {\n",
       "        text-align: right;\n",
       "    }\n",
       "\n",
       "    .dataframe thead th {\n",
       "        text-align: left;\n",
       "    }\n",
       "\n",
       "    .dataframe tbody tr th {\n",
       "        vertical-align: top;\n",
       "    }\n",
       "</style>\n",
       "<table border=\"1\" class=\"dataframe\">\n",
       "  <thead>\n",
       "    <tr style=\"text-align: right;\">\n",
       "      <th></th>\n",
       "      <th>Sqft</th>\n",
       "      <th>Floor</th>\n",
       "      <th>Living.Room</th>\n",
       "      <th>Bathroom</th>\n",
       "      <th>Bedroom</th>\n",
       "      <th>TotalFloor</th>\n",
       "    </tr>\n",
       "  </thead>\n",
       "  <tbody>\n",
       "    <tr>\n",
       "      <th>1</th>\n",
       "      <td>1177.698</td>\n",
       "      <td>2</td>\n",
       "      <td>2</td>\n",
       "      <td>2</td>\n",
       "      <td>2</td>\n",
       "      <td>7</td>\n",
       "    </tr>\n",
       "    <tr>\n",
       "      <th>2</th>\n",
       "      <td>2134.800</td>\n",
       "      <td>5</td>\n",
       "      <td>2</td>\n",
       "      <td>2</td>\n",
       "      <td>4</td>\n",
       "      <td>7</td>\n",
       "    </tr>\n",
       "    <tr>\n",
       "      <th>3</th>\n",
       "      <td>1138.560</td>\n",
       "      <td>5</td>\n",
       "      <td>2</td>\n",
       "      <td>1</td>\n",
       "      <td>2</td>\n",
       "      <td>7</td>\n",
       "    </tr>\n",
       "    <tr>\n",
       "      <th>4</th>\n",
       "      <td>1458.780</td>\n",
       "      <td>2</td>\n",
       "      <td>2</td>\n",
       "      <td>2</td>\n",
       "      <td>3</td>\n",
       "      <td>7</td>\n",
       "    </tr>\n",
       "    <tr>\n",
       "      <th>5</th>\n",
       "      <td>967.776</td>\n",
       "      <td>11</td>\n",
       "      <td>2</td>\n",
       "      <td>2</td>\n",
       "      <td>3</td>\n",
       "      <td>14</td>\n",
       "    </tr>\n",
       "  </tbody>\n",
       "</table>\n",
       "</div>"
      ],
      "text/plain": [
       "       Sqft  Floor  Living.Room  Bathroom  Bedroom  TotalFloor\n",
       "1  1177.698      2            2         2        2           7\n",
       "2  2134.800      5            2         2        4           7\n",
       "3  1138.560      5            2         1        2           7\n",
       "4  1458.780      2            2         2        3           7\n",
       "5   967.776     11            2         2        3          14"
      ]
     },
     "execution_count": 13,
     "metadata": {},
     "output_type": "execute_result"
    }
   ],
   "source": [
    "house_data[features].head()"
   ]
  },
  {
   "cell_type": "markdown",
   "metadata": {},
   "source": [
    "#### Splitting data into train & test"
   ]
  },
  {
   "cell_type": "code",
   "execution_count": 14,
   "metadata": {
    "collapsed": true
   },
   "outputs": [],
   "source": [
    "from sklearn.model_selection import train_test_split"
   ]
  },
  {
   "cell_type": "code",
   "execution_count": 15,
   "metadata": {
    "collapsed": true
   },
   "outputs": [],
   "source": [
    "trainX, testX, trainY, testY = train_test_split(house_data[features], house_data.Price)"
   ]
  },
  {
   "cell_type": "code",
   "execution_count": 18,
   "metadata": {
    "collapsed": true
   },
   "outputs": [],
   "source": [
    "from sklearn.linear_model import LinearRegression\n",
    "from sklearn.preprocessing import PolynomialFeatures"
   ]
  },
  {
   "cell_type": "code",
   "execution_count": 20,
   "metadata": {},
   "outputs": [
    {
     "name": "stdout",
     "output_type": "stream",
     "text": [
      "1 0.695406330272\n",
      "1 0.716064335862\n",
      "2 0.731416197737\n",
      "2 0.65764958177\n",
      "3 0.824046920714\n",
      "3 0.512632486655\n",
      "4 0.824138746622\n",
      "4 -3134.40259291\n"
     ]
    }
   ],
   "source": [
    "for degree in range(1,5):\n",
    "    pol = PolynomialFeatures(degree)\n",
    "    data_tf = pol.fit_transform(trainX)\n",
    "    model  = LinearRegression()\n",
    "    model.fit(data_tf, trainY)\n",
    "    \n",
    "    data_tf_test = pol.fit_transform(testX)\n",
    "    print (degree,model.score(data_tf, trainY))\n",
    "    print (degree,model.score(data_tf_test, testY))"
   ]
  },
  {
   "cell_type": "markdown",
   "metadata": {},
   "source": [
    "#### The above algo - Ordinary least squares algorithm. If there are outliers, the model & coef's are completely impacted"
   ]
  },
  {
   "cell_type": "code",
   "execution_count": 21,
   "metadata": {
    "collapsed": true
   },
   "outputs": [],
   "source": [
    "from sklearn.linear_model import Ridge"
   ]
  },
  {
   "cell_type": "code",
   "execution_count": 22,
   "metadata": {
    "collapsed": true
   },
   "outputs": [],
   "source": [
    "ridge_model = Ridge(alpha= .5)"
   ]
  },
  {
   "cell_type": "code",
   "execution_count": 23,
   "metadata": {},
   "outputs": [
    {
     "name": "stdout",
     "output_type": "stream",
     "text": [
      "1 0.695406118975\n",
      "1 0.716116821737\n",
      "\n",
      "\n",
      "2 0.731209344042\n",
      "2 0.662461275265\n",
      "\n",
      "\n",
      "3 0.82343283319\n",
      "3 0.334936545666\n",
      "\n",
      "\n",
      "4 0.89356117343\n",
      "4 -683.810622858\n",
      "\n",
      "\n"
     ]
    }
   ],
   "source": [
    "for degree in range(1,5):\n",
    "    pol = PolynomialFeatures(degree)\n",
    "    data_tf = pol.fit_transform(trainX)\n",
    "    model  = Ridge(alpha= .5)\n",
    "    model.fit(data_tf, trainY)\n",
    "    \n",
    "    data_tf_test = pol.fit_transform(testX)\n",
    "    print (degree,model.score(data_tf, trainY))\n",
    "    print (degree,model.score(data_tf_test, testY))\n",
    "    print ('\\n')"
   ]
  },
  {
   "cell_type": "code",
   "execution_count": 24,
   "metadata": {},
   "outputs": [
    {
     "data": {
      "text/html": [
       "<div>\n",
       "<style>\n",
       "    .dataframe thead tr:only-child th {\n",
       "        text-align: right;\n",
       "    }\n",
       "\n",
       "    .dataframe thead th {\n",
       "        text-align: left;\n",
       "    }\n",
       "\n",
       "    .dataframe tbody tr th {\n",
       "        vertical-align: top;\n",
       "    }\n",
       "</style>\n",
       "<table border=\"1\" class=\"dataframe\">\n",
       "  <thead>\n",
       "    <tr style=\"text-align: right;\">\n",
       "      <th></th>\n",
       "      <th>Sqft</th>\n",
       "      <th>Floor</th>\n",
       "      <th>TotalFloor</th>\n",
       "      <th>Bedroom</th>\n",
       "      <th>Living.Room</th>\n",
       "      <th>Bathroom</th>\n",
       "      <th>Price</th>\n",
       "    </tr>\n",
       "  </thead>\n",
       "  <tbody>\n",
       "    <tr>\n",
       "      <th>Sqft</th>\n",
       "      <td>1.000000</td>\n",
       "      <td>0.143249</td>\n",
       "      <td>0.304515</td>\n",
       "      <td>0.615608</td>\n",
       "      <td>0.455940</td>\n",
       "      <td>0.728869</td>\n",
       "      <td>0.825514</td>\n",
       "    </tr>\n",
       "    <tr>\n",
       "      <th>Floor</th>\n",
       "      <td>0.143249</td>\n",
       "      <td>1.000000</td>\n",
       "      <td>0.564221</td>\n",
       "      <td>0.023986</td>\n",
       "      <td>-0.023563</td>\n",
       "      <td>0.099772</td>\n",
       "      <td>0.244553</td>\n",
       "    </tr>\n",
       "    <tr>\n",
       "      <th>TotalFloor</th>\n",
       "      <td>0.304515</td>\n",
       "      <td>0.564221</td>\n",
       "      <td>1.000000</td>\n",
       "      <td>0.067298</td>\n",
       "      <td>0.029373</td>\n",
       "      <td>0.146132</td>\n",
       "      <td>0.333631</td>\n",
       "    </tr>\n",
       "    <tr>\n",
       "      <th>Bedroom</th>\n",
       "      <td>0.615608</td>\n",
       "      <td>0.023986</td>\n",
       "      <td>0.067298</td>\n",
       "      <td>1.000000</td>\n",
       "      <td>0.526532</td>\n",
       "      <td>0.643083</td>\n",
       "      <td>0.467059</td>\n",
       "    </tr>\n",
       "    <tr>\n",
       "      <th>Living.Room</th>\n",
       "      <td>0.455940</td>\n",
       "      <td>-0.023563</td>\n",
       "      <td>0.029373</td>\n",
       "      <td>0.526532</td>\n",
       "      <td>1.000000</td>\n",
       "      <td>0.546826</td>\n",
       "      <td>0.328788</td>\n",
       "    </tr>\n",
       "    <tr>\n",
       "      <th>Bathroom</th>\n",
       "      <td>0.728869</td>\n",
       "      <td>0.099772</td>\n",
       "      <td>0.146132</td>\n",
       "      <td>0.643083</td>\n",
       "      <td>0.546826</td>\n",
       "      <td>1.000000</td>\n",
       "      <td>0.605542</td>\n",
       "    </tr>\n",
       "    <tr>\n",
       "      <th>Price</th>\n",
       "      <td>0.825514</td>\n",
       "      <td>0.244553</td>\n",
       "      <td>0.333631</td>\n",
       "      <td>0.467059</td>\n",
       "      <td>0.328788</td>\n",
       "      <td>0.605542</td>\n",
       "      <td>1.000000</td>\n",
       "    </tr>\n",
       "  </tbody>\n",
       "</table>\n",
       "</div>"
      ],
      "text/plain": [
       "                 Sqft     Floor  TotalFloor   Bedroom  Living.Room  Bathroom  \\\n",
       "Sqft         1.000000  0.143249    0.304515  0.615608     0.455940  0.728869   \n",
       "Floor        0.143249  1.000000    0.564221  0.023986    -0.023563  0.099772   \n",
       "TotalFloor   0.304515  0.564221    1.000000  0.067298     0.029373  0.146132   \n",
       "Bedroom      0.615608  0.023986    0.067298  1.000000     0.526532  0.643083   \n",
       "Living.Room  0.455940 -0.023563    0.029373  0.526532     1.000000  0.546826   \n",
       "Bathroom     0.728869  0.099772    0.146132  0.643083     0.546826  1.000000   \n",
       "Price        0.825514  0.244553    0.333631  0.467059     0.328788  0.605542   \n",
       "\n",
       "                Price  \n",
       "Sqft         0.825514  \n",
       "Floor        0.244553  \n",
       "TotalFloor   0.333631  \n",
       "Bedroom      0.467059  \n",
       "Living.Room  0.328788  \n",
       "Bathroom     0.605542  \n",
       "Price        1.000000  "
      ]
     },
     "execution_count": 24,
     "metadata": {},
     "output_type": "execute_result"
    }
   ],
   "source": [
    "house_data.corr()"
   ]
  },
  {
   "cell_type": "markdown",
   "metadata": {},
   "source": [
    "#### Lasso\n",
    "* Estimates sparse coefs\n",
    "* Prefers solutions with lesser params"
   ]
  },
  {
   "cell_type": "code",
   "execution_count": 25,
   "metadata": {
    "collapsed": true
   },
   "outputs": [],
   "source": [
    "from sklearn.linear_model import Lasso"
   ]
  },
  {
   "cell_type": "code",
   "execution_count": 26,
   "metadata": {},
   "outputs": [
    {
     "name": "stdout",
     "output_type": "stream",
     "text": [
      "1 0.695406328926\n",
      "1 0.716066519664\n",
      "\n",
      "\n",
      "2 0.731320748166\n",
      "2 0.650444248061\n",
      "\n",
      "\n"
     ]
    },
    {
     "name": "stderr",
     "output_type": "stream",
     "text": [
      "C:\\Users\\ZekeLabs\\Anaconda3-N\\lib\\site-packages\\sklearn\\linear_model\\coordinate_descent.py:491: ConvergenceWarning: Objective did not converge. You might want to increase the number of iterations. Fitting data with very small alpha may cause precision problems.\n",
      "  ConvergenceWarning)\n"
     ]
    },
    {
     "name": "stdout",
     "output_type": "stream",
     "text": [
      "3 0.793079460574\n",
      "3 0.505793596728\n",
      "\n",
      "\n",
      "4 0.817124046973\n",
      "4 0.140697670363\n",
      "\n",
      "\n"
     ]
    }
   ],
   "source": [
    "for degree in range(1,5):\n",
    "    pol = PolynomialFeatures(degree)\n",
    "    data_tf = pol.fit_transform(trainX)\n",
    "    model  = Lasso(0.3)\n",
    "    model.fit(data_tf, trainY)\n",
    "    \n",
    "    data_tf_test = pol.fit_transform(testX)\n",
    "    print (degree,model.score(data_tf, trainY))\n",
    "    print (degree,model.score(data_tf_test, testY))\n",
    "    print ('\\n')"
   ]
  },
  {
   "cell_type": "code",
   "execution_count": 28,
   "metadata": {},
   "outputs": [
    {
     "data": {
      "text/plain": [
       "{'alpha': 0.3,\n",
       " 'copy_X': True,\n",
       " 'fit_intercept': True,\n",
       " 'max_iter': 1000,\n",
       " 'normalize': False,\n",
       " 'positive': False,\n",
       " 'precompute': False,\n",
       " 'random_state': None,\n",
       " 'selection': 'cyclic',\n",
       " 'tol': 0.0001,\n",
       " 'warm_start': False}"
      ]
     },
     "execution_count": 28,
     "metadata": {},
     "output_type": "execute_result"
    }
   ],
   "source": [
    "model.get_params()"
   ]
  },
  {
   "cell_type": "code",
   "execution_count": 29,
   "metadata": {},
   "outputs": [
    {
     "data": {
      "text/plain": [
       "array([  0.00000000e+00,   2.98492552e+01,   3.11966853e+03,\n",
       "         2.07552948e+04,  -1.75287431e+04,  -1.73437505e+04,\n",
       "         2.48831779e+03,   8.86268524e-03,  -3.58442672e-01,\n",
       "        -1.71018615e+01,   2.23327394e+00,   8.13207383e+00,\n",
       "        -4.53183041e-01,  -1.98702596e+02,  -1.93785448e+03,\n",
       "        -1.43866908e+03,   1.87334003e+02,   1.11600533e+02,\n",
       "         1.21434457e+03,   2.81027062e+03,  -2.13021416e+03,\n",
       "         8.40053535e+02,   3.66911582e+03,   7.57744452e+02,\n",
       "        -4.04752755e+02,   2.00312144e+02,   8.82091632e+02,\n",
       "        -2.00465548e+02,  -8.93482054e-07,   1.12905379e-03,\n",
       "        -3.23898844e-03,  -1.68185961e-03,   2.99773966e-03,\n",
       "        -1.37792934e-04,  -4.05731569e-02,   4.37781387e-01,\n",
       "        -6.29130104e-01,  -5.25481124e-01,   2.77426920e-02,\n",
       "        -2.78657297e+00,  -2.93226261e-01,   1.10996318e+00,\n",
       "         2.45713742e-01,  -1.05698019e+00,   4.20915930e-01,\n",
       "         3.30611922e-01,  -7.73071722e-01,   8.54146983e-02,\n",
       "        -8.46911489e-02,   8.36703517e+00,   1.00783524e+00,\n",
       "         2.26244714e+01,  -5.12736155e+00,  -2.72192274e+00,\n",
       "         3.09172164e+02,   4.21152109e+02,  -4.62270256e+02,\n",
       "         2.95429244e+01,  -3.80491152e+02,   4.78791330e+01,\n",
       "         2.44694529e+01,   4.89253133e+01,   5.33164786e+01,\n",
       "        -8.93493533e+00,   1.75138158e+03,   6.70737029e+02,\n",
       "        -1.12288455e+03,   4.55648662e+02,   2.07678427e+03,\n",
       "        -4.38794256e+02,  -2.55003544e+02,   1.80392333e+02,\n",
       "         2.25274432e+02,  -2.90646936e+01,   6.25977966e+02,\n",
       "        -5.39997899e+01,  -2.20972744e+02,   5.93759348e+02,\n",
       "        -4.12209572e+01,   3.36360724e+01,  -8.83903959e+01,\n",
       "         3.45116236e+01,   3.59144261e-01,   7.28105849e-01,\n",
       "        -6.21044924e-10,   1.95996417e-07,   3.20877899e-07,\n",
       "        -2.60459821e-07,   6.57735207e-07,   8.14394106e-09,\n",
       "        -1.67763302e-05,   1.66910712e-04,  -3.29757729e-04,\n",
       "         2.73532663e-06,  -7.10771544e-06,   8.03207139e-04,\n",
       "        -8.21282587e-04,   7.71348984e-04,   6.14400210e-05,\n",
       "        -4.92242041e-04,   1.97846311e-04,   1.00456869e-04,\n",
       "        -1.26858019e-04,   4.27981179e-06,  -8.98811272e-06,\n",
       "         2.83254452e-03,   1.97170473e-02,  -7.35940482e-03,\n",
       "        -3.43707071e-02,   1.88686786e-03,   7.25740708e-01,\n",
       "        -1.47253115e-01,  -4.44306913e-01,   1.33595308e-02,\n",
       "         1.36367021e-01,  -6.67538080e-02,  -4.78475069e-03,\n",
       "        -1.33861874e-01,   2.39657540e-02,  -3.14190182e-03,\n",
       "        -7.85895787e-02,   2.54301294e-01,  -4.71021882e-01,\n",
       "         1.45187202e-01,   7.55426403e-02,  -2.29464225e-01,\n",
       "         1.48184585e-01,  -5.71521501e-01,   1.66195196e-02,\n",
       "        -3.56124674e-02,   4.67910271e-01,   3.23528931e-02,\n",
       "         1.74670662e-01,  -5.24185418e-01,   8.83100424e-02,\n",
       "        -1.38291694e-03,  -2.00143647e-01,   3.15675263e-02,\n",
       "        -1.10317727e-02,   2.64802305e-04,  -3.96929468e-01,\n",
       "         3.54952341e+00,   5.06264713e+00,  -3.88277781e+00,\n",
       "         2.26248437e-01,  -8.12734546e+00,   6.09263526e+01,\n",
       "        -1.48881026e+01,  -3.69706267e+00,   1.25782994e+01,\n",
       "         2.28120113e+01,  -4.45167159e+00,   1.97778941e+01,\n",
       "        -3.36610031e+00,   9.55817902e-02,   1.18181200e+02,\n",
       "         1.72131407e+02,  -1.48919608e+02,  -2.95314440e+01,\n",
       "         7.48191777e+01,   1.56408452e+00,   1.72468336e+00,\n",
       "         2.20334974e+01,   1.42674739e+01,  -2.59387939e+00,\n",
       "        -2.00678140e+02,   1.44389838e+01,   3.19428496e+00,\n",
       "         3.72364410e+01,   1.54441618e+01,  -1.62985668e+00,\n",
       "         1.91218428e+01,   1.69886538e+01,  -4.70190179e-03,\n",
       "         1.45333989e-01,  -1.06505815e+03,  -2.95257674e+02,\n",
       "        -6.06273993e+02,  -1.26247665e+02,   1.03229741e+03,\n",
       "        -3.17716972e+02,  -3.05322031e+02,   5.03643789e+02,\n",
       "         6.41606543e+01,  -1.80144063e+01,   2.70602963e+02,\n",
       "        -1.56906476e+02,  -1.96257023e+02,   4.41825508e+02,\n",
       "        -8.09433120e+01,   1.86007969e+01,   2.22215294e+02,\n",
       "        -2.31284858e+01,   1.64630611e+00,   1.44166361e+00,\n",
       "        -1.98380604e+02,   3.16331795e+01,  -7.09754751e+01,\n",
       "         1.13599015e+02,  -8.23449510e+01,   2.17989940e+01,\n",
       "         4.96634671e+01,  -8.21089754e+01,   1.06680424e+01,\n",
       "         1.12236841e+00,   3.81361737e+01,  -4.32153780e+01,\n",
       "         4.38998831e+00,  -1.29409846e+00,   2.49939193e-01])"
      ]
     },
     "execution_count": 29,
     "metadata": {},
     "output_type": "execute_result"
    }
   ],
   "source": [
    "model.coef_"
   ]
  },
  {
   "cell_type": "markdown",
   "metadata": {},
   "source": [
    "#### Elastic Net\n",
    "* This is useful whene there are multiple features which are correlated with one another\n",
    "* Lasso will pick one of them randomly\n",
    "* elastic-net picks them both"
   ]
  },
  {
   "cell_type": "code",
   "execution_count": 32,
   "metadata": {},
   "outputs": [
    {
     "name": "stdout",
     "output_type": "stream",
     "text": [
      "1 0.693600245389\n",
      "1 0.719009141162\n",
      "\n",
      "\n",
      "2 0.725127436491\n",
      "2 0.66331950927\n",
      "\n",
      "\n",
      "3 "
     ]
    },
    {
     "name": "stderr",
     "output_type": "stream",
     "text": [
      "C:\\Users\\ZekeLabs\\Anaconda3-N\\lib\\site-packages\\sklearn\\linear_model\\coordinate_descent.py:491: ConvergenceWarning: Objective did not converge. You might want to increase the number of iterations. Fitting data with very small alpha may cause precision problems.\n",
      "  ConvergenceWarning)\n"
     ]
    },
    {
     "name": "stdout",
     "output_type": "stream",
     "text": [
      "0.788652085783\n",
      "3 0.651382867971\n",
      "\n",
      "\n",
      "4 0.81568756867\n",
      "4 0.365673989744\n",
      "\n",
      "\n"
     ]
    }
   ],
   "source": [
    "from sklearn.linear_model import ElasticNet\n",
    "\n",
    "for degree in range(1,5):\n",
    "    pol = PolynomialFeatures(degree)\n",
    "    data_tf = pol.fit_transform(trainX)\n",
    "    model  = ElasticNet(alpha=0.8)\n",
    "    model.fit(data_tf, trainY)\n",
    "    \n",
    "    data_tf_test = pol.fit_transform(testX)\n",
    "    print (degree,model.score(data_tf, trainY))\n",
    "    print (degree,model.score(data_tf_test, testY))\n",
    "    print ('\\n')"
   ]
  },
  {
   "cell_type": "code",
   "execution_count": null,
   "metadata": {
    "collapsed": true
   },
   "outputs": [],
   "source": []
  }
 ],
 "metadata": {
  "kernelspec": {
   "display_name": "Python 3",
   "language": "python",
   "name": "python3"
  },
  "language_info": {
   "codemirror_mode": {
    "name": "ipython",
    "version": 3
   },
   "file_extension": ".py",
   "mimetype": "text/x-python",
   "name": "python",
   "nbconvert_exporter": "python",
   "pygments_lexer": "ipython3",
   "version": "3.5.4"
  }
 },
 "nbformat": 4,
 "nbformat_minor": 2
}
